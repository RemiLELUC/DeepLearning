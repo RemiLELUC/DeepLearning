{
  "nbformat": 4,
  "nbformat_minor": 0,
  "metadata": {
    "colab": {
      "name": "DQN_project_MVA_LELUC.ipynb",
      "version": "0.3.2",
      "provenance": [],
      "collapsed_sections": []
    },
    "kernelspec": {
      "name": "python3",
      "display_name": "Python 3"
    },
    "accelerator": "GPU"
  },
  "cells": [
    {
      "metadata": {
        "id": "VC4Xl_r6G3fR",
        "colab_type": "text"
      },
      "cell_type": "markdown",
      "source": [
        "**You may need to install [OpenCV](https://pypi.python.org/pypi/opencv-python) and [scikit-video](http://www.scikit-video.org/stable/).**"
      ]
    },
    {
      "metadata": {
        "id": "JyOW6PXlG3fY",
        "colab_type": "code",
        "colab": {
          "base_uri": "https://localhost:8080/",
          "height": 156
        },
        "outputId": "e8af6d7c-f079-45e7-9a3d-528f60286826"
      },
      "cell_type": "code",
      "source": [
        "import keras\n",
        "import numpy as np\n",
        "import io\n",
        "import base64\n",
        "from IPython.display import HTML\n",
        "!pip3 install sk-video\n",
        "import skvideo.io\n",
        "import cv2\n",
        "import json\n",
        "\n",
        "from keras.models import Sequential,model_from_json\n",
        "from keras.layers.core import Dense\n",
        "from keras.optimizers import sgd\n",
        "from keras.layers import Conv2D,MaxPooling2D,AveragePooling2D\n",
        "from keras.layers import Activation,Reshape,BatchNormalization,Flatten"
      ],
      "execution_count": 3,
      "outputs": [
        {
          "output_type": "stream",
          "text": [
            "Collecting sk-video\n",
            "\u001b[?25l  Downloading https://files.pythonhosted.org/packages/dd/3f/ce848b8b2062ad1ccf1449094a740c775f6c761339f411e44f1e090f23a7/sk_video-1.1.10-py2.py3-none-any.whl (2.3MB)\n",
            "\u001b[K    100% |████████████████████████████████| 2.3MB 11.0MB/s \n",
            "\u001b[?25hRequirement already satisfied: scipy in /usr/local/lib/python3.6/dist-packages (from sk-video) (1.1.0)\n",
            "Requirement already satisfied: numpy in /usr/local/lib/python3.6/dist-packages (from sk-video) (1.14.6)\n",
            "Installing collected packages: sk-video\n",
            "Successfully installed sk-video-1.1.10\n"
          ],
          "name": "stdout"
        }
      ]
    },
    {
      "metadata": {
        "id": "nOkjATIjG3fo",
        "colab_type": "text"
      },
      "cell_type": "markdown",
      "source": [
        "# MiniProject #3: Deep Reinforcement Learning"
      ]
    },
    {
      "metadata": {
        "id": "Q8GLIwSuG3ft",
        "colab_type": "text"
      },
      "cell_type": "markdown",
      "source": [
        "__Notations__: $E_p$ is the expectation under probability $p$. Please justify each of your answer and widely comment your code."
      ]
    },
    {
      "metadata": {
        "id": "dIUUTLp1G3fx",
        "colab_type": "text"
      },
      "cell_type": "markdown",
      "source": [
        "# Context"
      ]
    },
    {
      "metadata": {
        "id": "9f355jXtG3fz",
        "colab_type": "text"
      },
      "cell_type": "markdown",
      "source": [
        "In a reinforcement learning algorithm, we modelize each step $t$ as an action $a_t$ obtained from a state $s_t$, i.e. $\\{(a_{t},s_{t})_{t\\leq T}\\}$ having the Markov property. We consider a discount factor $\\gamma \\in [0,1]$ that ensures convergence. The goal is to find among all the policies $\\pi$, one that maximizes the expected reward:\n",
        "\n",
        "\\begin{equation*}\n",
        "R(\\pi)=\\sum_{t\\leq T}E_{p^{\\pi}}[\\gamma^t r(s_{t},a_{t})] \\> ,\n",
        "\\end{equation*}\n",
        "\n",
        "where: \n",
        "\\begin{equation*}p^{\\pi}(a_{0},a_{1},s_{1},...,a_{T},s_{T})=p(a_{0})\\prod_{t=1}^{T}\\pi(a_{t}|s_{t})p(s_{t+1}|s_{t},a_{t}) \\> .\n",
        "\\end{equation*}\n",
        "\n",
        "We note the $Q$-function:\n",
        "\n",
        "\\begin{equation*}Q^\\pi(s,a)=E_{p^{\\pi}}[\\sum_{t\\leq T}\\gamma^{t}r(s_{t},a_{t})|s_{0}=s,a_{0}=a] \\> .\n",
        "\\end{equation*}\n",
        "\n",
        "Thus, the optimal Q function is:\n",
        "\\begin{equation*}\n",
        "Q^*(s,a)=\\max_{\\pi}Q^\\pi(s,a) \\> .\n",
        "\\end{equation*}\n",
        "\n",
        "In this project, we will apply the deep reinforcement learning techniques to a simple game: an agent will have to learn from scratch a policy that will permit it maximizing a reward."
      ]
    },
    {
      "metadata": {
        "id": "rjfgmdW9G3f3",
        "colab_type": "text"
      },
      "cell_type": "markdown",
      "source": [
        "## The environment, the agent and the game"
      ]
    },
    {
      "metadata": {
        "id": "MtqWgQg7G3f6",
        "colab_type": "text"
      },
      "cell_type": "markdown",
      "source": [
        "### The environment"
      ]
    },
    {
      "metadata": {
        "id": "F7YpFK9sG3f-",
        "colab_type": "text"
      },
      "cell_type": "markdown",
      "source": [
        "```Environment``` is an abstract class that represents the states, rewards, and actions to obtain the new state."
      ]
    },
    {
      "metadata": {
        "id": "iVbtHqUaG3gA",
        "colab_type": "code",
        "colab": {}
      },
      "cell_type": "code",
      "source": [
        "class Environment(object):\n",
        "    def __init__(self):\n",
        "        pass\n",
        "\n",
        "    def act(self, act):\n",
        "        \"\"\"\n",
        "        One can act on the environment and obtain its reaction:\n",
        "        - the new state\n",
        "        - the reward of the new state\n",
        "        - should we continue the game?\n",
        "\n",
        "        :return: state, reward, game_over\n",
        "        \"\"\"\n",
        "        pass\n",
        "\n",
        "\n",
        "    def reset(self):\n",
        "        \"\"\"\n",
        "        Reinitialize the environment to a random state and returns\n",
        "        the original state\n",
        "\n",
        "        :return: state\n",
        "        \"\"\"\n",
        "        pass\n",
        "    \n",
        "    def draw(self):\n",
        "        \"\"\"\n",
        "        Visualize in the console or graphically the current state\n",
        "        \"\"\"\n",
        "        pass"
      ],
      "execution_count": 0,
      "outputs": []
    },
    {
      "metadata": {
        "id": "i2Yvy2JaG3gO",
        "colab_type": "text"
      },
      "cell_type": "markdown",
      "source": [
        "The method ```act``` allows to act on the environment at a given state $s_t$ (stored internally), via action $a_t$. The method will return the new state $s_{t+1}$, the reward $r(s_{t},a_{t})$ and determines if $t\\leq T$ (*game_over*).\n",
        "\n",
        "The method ```reset``` simply reinitializes the environment to a random state $s_0$.\n",
        "\n",
        "The method ```draw``` displays the current state $s_t$ (this is useful to check the behavior of the Agent).\n",
        "\n",
        "We modelize $s_t$ as a tensor, while $a_t$ is an integer."
      ]
    },
    {
      "metadata": {
        "id": "ckH_CkT3G3gR",
        "colab_type": "text"
      },
      "cell_type": "markdown",
      "source": [
        "### The Agent"
      ]
    },
    {
      "metadata": {
        "id": "Z6JksOCMG3gT",
        "colab_type": "text"
      },
      "cell_type": "markdown",
      "source": [
        "The goal of the ```Agent``` is to interact with the ```Environment``` by proposing actions $a_t$ obtained from a given state $s_t$ to attempt to maximize its __reward__ $r(s_t,a_t)$. We propose the following abstract class:"
      ]
    },
    {
      "metadata": {
        "id": "2Wq3kYYdG3gV",
        "colab_type": "code",
        "colab": {}
      },
      "cell_type": "code",
      "source": [
        "class Agent(object):\n",
        "    def __init__(self, epsilon=0.1, n_action=4):\n",
        "        self.epsilon = epsilon\n",
        "        self.n_action = n_action\n",
        "    \n",
        "    def set_epsilon(self,e):\n",
        "        self.epsilon = e\n",
        "\n",
        "    def act(self,s,train=True):\n",
        "        \"\"\" This function should return the next action to do:\n",
        "        an integer between 0 and 4 (not included) with a random exploration of epsilon\"\"\"\n",
        "        if train:\n",
        "            if np.random.rand() <= self.epsilon:\n",
        "                a = np.random.randint(0, self.n_action, size=1)[0]\n",
        "            else:\n",
        "                a = self.learned_act(s)\n",
        "        else: # in some cases, this can improve the performance.. remove it if poor performances\n",
        "            a = self.learned_act(s)\n",
        "\n",
        "        return a\n",
        "\n",
        "    def learned_act(self,s):\n",
        "        \"\"\" Act via the policy of the agent, from a given state s\n",
        "        it proposes an action a\"\"\"\n",
        "        pass\n",
        "\n",
        "    def reinforce(self, s, n_s, a, r, game_over_):\n",
        "        \"\"\" This function is the core of the learning algorithm. \n",
        "        It takes as an input the current state s_, the next state n_s_\n",
        "        the action a_ used to move from s_ to n_s_ and the reward r_.\n",
        "        \n",
        "        Its goal is to learn a policy.\n",
        "        \"\"\"\n",
        "        pass\n",
        "\n",
        "    def save(self):\n",
        "        \"\"\" This function returns basic stats if applicable: the\n",
        "        loss and/or the model\"\"\"\n",
        "        pass\n",
        "\n",
        "    def load(self):\n",
        "        \"\"\" This function allows to restore a model\"\"\"\n",
        "        pass"
      ],
      "execution_count": 0,
      "outputs": []
    },
    {
      "metadata": {
        "id": "hEpXf_qEG3gh",
        "colab_type": "text"
      },
      "cell_type": "markdown",
      "source": [
        "***\n",
        "__Question 1__:\n",
        "Explain the function act. Why is ```epsilon``` essential?"
      ]
    },
    {
      "metadata": {
        "id": "RhHMlpROG3gi",
        "colab_type": "text"
      },
      "cell_type": "markdown",
      "source": [
        "\n",
        "The function **act** returns the next action to take, i.e what action the agent will perform knowing the current state. This choice is based on all the previous cumulated knowledge. This is the **exploration-exploitation dilemma** in Reinforcement Learning : in order to not make the actions being too biased by the past during the training phase, we add an exploration criterion. The $\\epsilon$ parameter allows to control the exploration and is essential to balance the trade-off. This is the $\\epsilon$-greedy strategy. \n",
        "- $\\epsilon = 0$: full exploitation, we only focus on the previous knowledge.\n",
        "\n",
        "- $\\epsilon=1$: full exploration, we act randomly at each step.\n",
        "\n",
        "The $\\epsilon$ parameter is essential: in order to not being biased by some situations where the past is disadvantageous for one action, the $\\epsilon$ parameter allows to keep letting a chance to all the actions to improve how they are perceived from our algorithm.\n"
      ]
    },
    {
      "metadata": {
        "id": "-morXyQaG3gm",
        "colab_type": "text"
      },
      "cell_type": "markdown",
      "source": [
        "***\n",
        "### The Game"
      ]
    },
    {
      "metadata": {
        "id": "KF9jAcxwG3gq",
        "colab_type": "text"
      },
      "cell_type": "markdown",
      "source": [
        "The ```Agent``` and the ```Environment``` work in an interlaced way as in the following (take some time to understand this code as it is the core of the project)\n",
        "\n",
        "```python\n",
        "\n",
        "epoch = 300\n",
        "env = Environment()\n",
        "agent = Agent()\n",
        "\n",
        "\n",
        "# Number of won games\n",
        "score = 0\n",
        "loss = 0\n",
        "\n",
        "\n",
        "for e in range(epoch):\n",
        "    # At each epoch, we restart to a fresh game and get the initial state\n",
        "    state = env.reset()\n",
        "    # This assumes that the games will end\n",
        "    game_over = False\n",
        "\n",
        "    win = 0\n",
        "    lose = 0\n",
        "    \n",
        "    while not game_over:\n",
        "        # The agent performs an action\n",
        "        action = agent.act(state)\n",
        "\n",
        "        # Apply an action to the environment, get the next state, the reward\n",
        "        # and if the games end\n",
        "        prev_state = state\n",
        "        state, reward, game_over = env.act(action)\n",
        "\n",
        "        # Update the counters\n",
        "        if reward > 0:\n",
        "            win = win + reward\n",
        "        if reward < 0:\n",
        "            lose = lose -reward\n",
        "\n",
        "        # Apply the reinforcement strategy\n",
        "        loss = agent.reinforce(prev_state, state,  action, reward, game_over)\n",
        "\n",
        "    # Save as a mp4\n",
        "    if e % 10 == 0:\n",
        "        env.draw(e)\n",
        "\n",
        "    # Update stats\n",
        "    score += win-lose\n",
        "\n",
        "    print(\"Epoch {:03d}/{:03d} | Loss {:.4f} | Win/lose count {}/{} ({})\"\n",
        "          .format(e, epoch, loss, win, lose, win-lose))\n",
        "    agent.save()\n",
        "```"
      ]
    },
    {
      "metadata": {
        "id": "b13AXndTG3gu",
        "colab_type": "text"
      },
      "cell_type": "markdown",
      "source": [
        "# The game, *eat cheese*"
      ]
    },
    {
      "metadata": {
        "id": "S83GigAvG3gw",
        "colab_type": "text"
      },
      "cell_type": "markdown",
      "source": [
        "A rat runs on an island and tries to eat as much as possible. The island is subdivided into $N\\times N$ cells, in which there are cheese (+0.5) and poisonous cells (-1). The rat has a visibility of 2 cells (thus it can see $5^2$ cells). The rat is given a time $T$ to accumulate as much food as possible. It can perform 4 actions: going up, down, left, right. \n",
        "\n",
        "The goal is to code an agent to solve this task that will learn by trial and error. We propose the following environment:"
      ]
    },
    {
      "metadata": {
        "id": "n3NDBcYMG3gz",
        "colab_type": "code",
        "colab": {}
      },
      "cell_type": "code",
      "source": [
        "class Environment(object):\n",
        "    def __init__(self, grid_size=10, max_time=500, temperature=0.1):\n",
        "        grid_size = grid_size+4\n",
        "        self.grid_size = grid_size\n",
        "        self.max_time = max_time\n",
        "        self.temperature = temperature\n",
        "\n",
        "        #board on which one plays\n",
        "        self.board = np.zeros((grid_size,grid_size))\n",
        "        self.position = np.zeros((grid_size,grid_size))\n",
        "\n",
        "        # coordinate of the cat\n",
        "        self.x = 0\n",
        "        self.y = 1\n",
        "\n",
        "        # self time\n",
        "        self.t = 0\n",
        "\n",
        "        self.scale=16\n",
        "\n",
        "        self.to_draw = np.zeros((max_time+2, grid_size*self.scale, grid_size*self.scale, 3))\n",
        "\n",
        "\n",
        "    def draw(self,e):\n",
        "        skvideo.io.vwrite(str(e) + '.mp4', self.to_draw)\n",
        "\n",
        "    def get_frame(self,t):\n",
        "        b = np.zeros((self.grid_size,self.grid_size,3))+128\n",
        "        b[self.board>0,0] = 256\n",
        "        b[self.board < 0, 2] = 256\n",
        "        b[self.x,self.y,:]=256\n",
        "        b[-2:,:,:]=0\n",
        "        b[:,-2:,:]=0\n",
        "        b[:2,:,:]=0\n",
        "        b[:,:2,:]=0\n",
        "        \n",
        "        b =  cv2.resize(b, None, fx=self.scale, fy=self.scale, interpolation=cv2.INTER_NEAREST)\n",
        "\n",
        "        self.to_draw[t,:,:,:]=b\n",
        "\n",
        "\n",
        "    def act(self, action):\n",
        "        \"\"\"This function returns the new state, reward and decides if the\n",
        "        game ends.\"\"\"\n",
        "\n",
        "        self.get_frame(int(self.t))\n",
        "\n",
        "        self.position = np.zeros((self.grid_size, self.grid_size))\n",
        "\n",
        "        self.position[0:2,:]= -1\n",
        "        self.position[:,0:2] = -1\n",
        "        self.position[-2:, :] = -1\n",
        "        self.position[-2:, :] = -1\n",
        "\n",
        "        self.position[self.x, self.y] = 1\n",
        "        if action == 0:\n",
        "            if self.x == self.grid_size-3:\n",
        "                self.x = self.x-1\n",
        "            else:\n",
        "                self.x = self.x + 1\n",
        "        elif action == 1:\n",
        "            if self.x == 2:\n",
        "                self.x = self.x+1\n",
        "            else:\n",
        "                self.x = self.x-1\n",
        "        elif action == 2:\n",
        "            if self.y == self.grid_size - 3:\n",
        "                self.y = self.y - 1\n",
        "            else:\n",
        "                self.y = self.y + 1\n",
        "        elif action == 3:\n",
        "            if self.y == 2:\n",
        "                self.y = self.y + 1\n",
        "            else:\n",
        "                self.y = self.y - 1\n",
        "        else:\n",
        "            RuntimeError('Error: action not recognized')\n",
        "\n",
        "        self.t = self.t + 1\n",
        "        reward = self.board[self.x, self.y]\n",
        "        self.board[self.x, self.y] = 0\n",
        "        game_over = self.t > self.max_time\n",
        "        state = np.concatenate((self.board.reshape(self.grid_size, self.grid_size,1),\n",
        "                        self.position.reshape(self.grid_size, self.grid_size,1)),axis=2)\n",
        "        state = state[self.x-2:self.x+3,self.y-2:self.y+3,:]\n",
        "\n",
        "        return state, reward, game_over\n",
        "\n",
        "    def reset(self):\n",
        "        \"\"\"This function resets the game and returns the initial state\"\"\"\n",
        "\n",
        "        self.x = np.random.randint(3, self.grid_size-3, size=1)[0]\n",
        "        self.y = np.random.randint(3, self.grid_size-3, size=1)[0]\n",
        "\n",
        "\n",
        "        bonus = 0.5*np.random.binomial(1,self.temperature,size=self.grid_size**2)\n",
        "        bonus = bonus.reshape(self.grid_size,self.grid_size)\n",
        "\n",
        "        malus = -1.0*np.random.binomial(1,self.temperature,size=self.grid_size**2)\n",
        "        malus = malus.reshape(self.grid_size, self.grid_size)\n",
        "\n",
        "        self.to_draw = np.zeros((self.max_time+2, self.grid_size*self.scale, self.grid_size*self.scale, 3))\n",
        "\n",
        "\n",
        "        malus[bonus>0]=0\n",
        "\n",
        "        self.board = bonus + malus\n",
        "\n",
        "        self.position = np.zeros((self.grid_size, self.grid_size))\n",
        "        self.position[0:2,:]= -1\n",
        "        self.position[:,0:2] = -1\n",
        "        self.position[-2:, :] = -1\n",
        "        self.position[-2:, :] = -1\n",
        "        self.board[self.x,self.y] = 0\n",
        "        self.t = 0\n",
        "\n",
        "        state = np.concatenate((\n",
        "                               self.board.reshape(self.grid_size, self.grid_size,1),\n",
        "                        self.position.reshape(self.grid_size, self.grid_size,1)),axis=2)\n",
        "\n",
        "        state = state[self.x - 2:self.x + 3, self.y - 2:self.y + 3, :]\n",
        "        return state"
      ],
      "execution_count": 0,
      "outputs": []
    },
    {
      "metadata": {
        "id": "i4mRwsY4G3hA",
        "colab_type": "text"
      },
      "cell_type": "markdown",
      "source": [
        "The following elements are important because they correspond to the hyper parameters for this project:"
      ]
    },
    {
      "metadata": {
        "id": "9Hd1H9_4G3hC",
        "colab_type": "code",
        "colab": {}
      },
      "cell_type": "code",
      "source": [
        "# parameters\n",
        "size = 13\n",
        "T=200\n",
        "temperature=0.3\n",
        "epochs_train=50 # set small when debugging\n",
        "epochs_test=10 # set small when debugging\n",
        "\n",
        "# display videos\n",
        "def display_videos(name):\n",
        "    video = io.open(name, 'r+b').read()\n",
        "    encoded = base64.b64encode(video)\n",
        "    return '''<video alt=\"test\" controls>\n",
        "                <source src=\"data:video/mp4;base64,{0}\" type=\"video/mp4\" />\n",
        "             </video>'''.format(encoded.decode('ascii'))"
      ],
      "execution_count": 0,
      "outputs": []
    },
    {
      "metadata": {
        "id": "pFMNV1rcG3hO",
        "colab_type": "text"
      },
      "cell_type": "markdown",
      "source": [
        "__Question 2__ Explain the use of the arrays ```position``` and ```board```."
      ]
    },
    {
      "metadata": {
        "id": "KFNKFdm8G3hS",
        "colab_type": "text"
      },
      "cell_type": "markdown",
      "source": [
        "The *position* array contains an array representing where the rat can go. It has\n",
        "- -1 in the boundaries where we can't go\n",
        "- 0 where we can actually go \n",
        "- 1 in the position where the rat is\n",
        "\n",
        "The *board* array represents the reward associated to each cell of the grid. If our rat comes to the position $(x,y)$ it will get the reward board[x,y]."
      ]
    },
    {
      "metadata": {
        "id": "xNnoSkvMG3hT",
        "colab_type": "text"
      },
      "cell_type": "markdown",
      "source": [
        "## Random Agent"
      ]
    },
    {
      "metadata": {
        "id": "oj8rRWuDG3hW",
        "colab_type": "text"
      },
      "cell_type": "markdown",
      "source": [
        "***\n",
        "__Question 3__ Implement a random Agent (only ```learned_act``` needs to be implemented):"
      ]
    },
    {
      "metadata": {
        "id": "UA5y6TlnG3hY",
        "colab_type": "code",
        "colab": {}
      },
      "cell_type": "code",
      "source": [
        "class RandomAgent(Agent):\n",
        "    def __init__(self):\n",
        "        super(RandomAgent, self).__init__()\n",
        "        pass\n",
        "\n",
        "    def learned_act(self, s):\n",
        "        a = np.random.randint(0, self.n_action, size=1)[0]\n",
        "        return a"
      ],
      "execution_count": 0,
      "outputs": []
    },
    {
      "metadata": {
        "id": "tUI4snfJG3hl",
        "colab_type": "text"
      },
      "cell_type": "markdown",
      "source": [
        "***\n",
        "***\n",
        "__Question 4__ Visualize the game moves. You need to fill in the following function for the evaluation:"
      ]
    },
    {
      "metadata": {
        "id": "rZEoT3CNG3hp",
        "colab_type": "code",
        "colab": {}
      },
      "cell_type": "code",
      "source": [
        "def test(agent,env,epochs,prefix=''):\n",
        "    # Number of won games\n",
        "    score = 0\n",
        "    for e in range(epochs):\n",
        "        state = env.reset()\n",
        "        # This assumes that the games will end\n",
        "        game_over = False\n",
        "        win = 0\n",
        "        lose = 0\n",
        "        while not game_over:\n",
        "            #No need for ϵ-greedy approach during test phase\n",
        "            action = agent.act(state,train=False)\n",
        "            prev_state= state\n",
        "            state,reward,game_over = env.act(action)\n",
        "            if reward >0:\n",
        "                win = win +reward \n",
        "            if reward < 0:\n",
        "                lose = lose-reward\n",
        "        # Save as a mp4\n",
        "        env.draw(prefix+str(e))\n",
        "        # Update stats\n",
        "        score = score + win-lose\n",
        "        print(\"Win/lose count {}/{}. Average score ({})\"\n",
        "              .format(win, lose, score/(1+e)))\n",
        "    print('Final score: '+str(score/epochs))"
      ],
      "execution_count": 0,
      "outputs": []
    },
    {
      "metadata": {
        "id": "Ax01-bh9G3hw",
        "colab_type": "code",
        "outputId": "7e4be0af-b3c9-4956-eed2-02554af04e1e",
        "colab": {
          "base_uri": "https://localhost:8080/",
          "height": 358
        }
      },
      "cell_type": "code",
      "source": [
        "# Initialize the game\n",
        "env = Environment(grid_size=size, max_time=T,temperature=temperature)\n",
        "\n",
        "# Initialize the agent!\n",
        "agent = RandomAgent()\n",
        "\n",
        "test(agent,env,epochs_test,prefix='random')\n",
        "HTML(display_videos('random0.mp4'))"
      ],
      "execution_count": 10,
      "outputs": [
        {
          "output_type": "stream",
          "text": [
            "Win/lose count 12.0/16.0. Average score (-4.0)\n",
            "Win/lose count 11.5/11.0. Average score (-1.75)\n",
            "Win/lose count 10.5/17.0. Average score (-3.3333333333333335)\n",
            "Win/lose count 12.5/24.0. Average score (-5.375)\n",
            "Win/lose count 8.0/10.0. Average score (-4.7)\n",
            "Win/lose count 7.0/10.0. Average score (-4.416666666666667)\n",
            "Win/lose count 9.5/13.0. Average score (-4.285714285714286)\n",
            "Win/lose count 16.5/13.0. Average score (-3.3125)\n",
            "Win/lose count 14.0/11.0. Average score (-2.611111111111111)\n",
            "Win/lose count 7.5/12.0. Average score (-2.8)\n",
            "Final score: -2.8\n"
          ],
          "name": "stdout"
        },
        {
          "output_type": "execute_result",
          "data": {
            "text/html": [
              "<video alt=\"test\" controls>\n",
              "                <source src=\"data:video/mp4;base64,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\" type=\"video/mp4\" />\n",
              "             </video>"
            ],
            "text/plain": [
              "<IPython.core.display.HTML object>"
            ]
          },
          "metadata": {
            "tags": []
          },
          "execution_count": 10
        }
      ]
    },
    {
      "metadata": {
        "id": "wNExToFgG3h-",
        "colab_type": "text"
      },
      "cell_type": "markdown",
      "source": [
        "***\n",
        "## DQN"
      ]
    },
    {
      "metadata": {
        "id": "2NbWOlThG3iB",
        "colab_type": "text"
      },
      "cell_type": "markdown",
      "source": [
        "Let us assume here that $T=\\infty$.\n",
        "\n",
        "***\n",
        "__Question 5__ Let $\\pi$ be a policy, show that:\n",
        "\n",
        "\\begin{equation*}\n",
        "Q^{\\pi}(s,a)=E_{(s',a')\\sim p(.|s,a)}[r(s,a)+\\gamma Q^{\\pi}(s',a')]\n",
        "\\end{equation*}\n",
        "\n",
        "Then, show that for the optimal policy $\\pi^*$ (we assume its existence), the following holds: \n",
        "\n",
        "\\begin{equation*}\n",
        "Q^{*}(s,a)=E_{s'\\sim \\pi^*(.|s,a)}[r(s,a)+\\gamma\\max_{a'}Q^{*}(s',a')].\n",
        "\\end{equation*}\n",
        "Finally, deduce that a plausible objective is:\n",
        "\n",
        "\\begin{equation*}\n",
        "\\mathcal{L}(\\theta)=E_{s' \\sim \\pi^*(.|s,a)}\\Vert r+\\gamma\\max\\max_{a'}Q(s',a',\\theta)-Q(s,a,\\theta)\\Vert^{2}.\n",
        "\\end{equation*}\n",
        "\n",
        "\n"
      ]
    },
    {
      "metadata": {
        "id": "mJpBKaM4G3iJ",
        "colab_type": "text"
      },
      "cell_type": "markdown",
      "source": [
        "**Answer**\n",
        "\n",
        "$\\begin{align*}\n",
        "Q^{\\pi}(s,a)&=  E\\left[\\sum_{k=0}^{\\infty} \\gamma^{k} r_{t+k} | s_{t}=s, a_{t}=a\\right]  \\\\\n",
        "&= E\\left[r(s, a)+\\sum_{k=1}^{\\infty} \\gamma^{k} r_{t+k} | s_{t}=s, a_{t}=a\\right] \\\\\n",
        "&= r(s, a)+\\gamma E\\left[E\\left[\\sum_{k=0}^{\\infty}\\left[\\gamma^{k} r_{t+1+k}{\\left|s_{t+1}\\right.}=s^{\\prime}, a_{t+1}=a^{\\prime}\\right] | s_{t}=s, a_{t}=a\\right]\\right. \\\\\n",
        "&=r(s, a)+\\gamma \\sum_{\\left(s^{\\prime}, a^{\\prime}\\right)}\\left(p\\left(s_{t+1}=s^{\\prime}, a_{t+1}=a^{\\prime} | s_{t}=s, a_{t}=a\\right)\\right. [E\\left[\\sum_{k=0}^{\\infty} \\gamma^{k} r_{t+1+k} | s_{t+1}=s^{\\prime}, a_{t+1}=a^{\\prime}\\right]. \\\\\n",
        "&= \\sum_{\\left(s^{\\prime}, a^{\\prime}\\right)}\\left(p\\left(s_{t+1}=s^{\\prime}, a_{t+1}=a^{\\prime} | s_{t}=s, a_{t}=a\\right) r(s, a)\\right. + \\gamma \\sum_{\\left(s^{\\prime}, a^{\\prime}\\right)}\\left(p\\left(s_{t+1}=s^{\\prime}, a_{t+1}=a^{\\prime} | s_{t}=s, a_{t}=a\\right)\\right. [E\\left[\\sum_{k=0}^{\\infty} \\gamma^{k} r_{t+1+k} | s_{t+1}=s^{\\prime}, a_{t+1}=a^{\\prime}\\right]. \\\\\n",
        "&= E_{(s',a')\\sim p(.|s,a)}[r(s,a)+\\gamma Q^{\\pi}(s',a')]\n",
        "\\end{align*}$\n",
        "\n",
        "Therefore\n",
        "\n",
        "$$\\boxed{Q^{\\pi}(s,a)=E_{(s',a')\\sim p(.|s,a)}[r(s,a)+\\gamma Q^{\\pi}(s',a')]}$$"
      ]
    },
    {
      "metadata": {
        "id": "ri9vcHQQAugP",
        "colab_type": "text"
      },
      "cell_type": "markdown",
      "source": [
        "$\\begin{align*}\n",
        "Q^{*}(s, a) &= \\max _{\\pi} E_{\\left(s^{\\prime}, a^{\\prime}\\right) \\sim p( . | s, a)}\\left[r(s, a)+\\gamma Q^{\\pi}\\left(s^{\\prime}, a^{\\prime}\\right)\\right] \\\\\n",
        "&= \\max _{\\pi} r(s, a)+\\gamma \\sum\\left(p\\left(s_{t+1}=s^{\\prime} | s_{t}=s, a_{t}=a\\right) Q^{\\pi}\\left(s^{\\prime}, a^{\\prime}\\right)\\right.\\\\\n",
        "&= r(s, a)+\\gamma \\max _{\\pi} \\sum\\left(p\\left(s_{t+1}=s^{\\prime} | s_{t}=s, a_{t}=a\\right) Q^{\\pi}\\left(s^{\\prime}, a^{\\prime}\\right)\\right.\n",
        "\\end{align*}$\n",
        "\n",
        "$  \\pi=\\left(a^{\\prime}, \\pi^{\\prime}\\right)  $\n",
        "\n",
        "$\\max _{\\pi} \\sum_{\\left(s^{\\prime}\\right)} p\\left(s_{t+1}=s^{\\prime} | s_{t}=s, a_{t}=a\\right) Q^{\\pi^{\\prime}}\\left(s^{\\prime}, a^{\\prime}\\right) \\leq \\sum_{\\left(s^{\\prime}, a^{\\prime}\\right)} p\\left(s_{t+1}=s, a_{t}=a\\right) \\max _{\\pi} Q^{\\pi}\\left(s^{\\prime}, a^{\\prime}\\right)$\n",
        "\n",
        "$\\begin{align*} \n",
        "\\sum_{s'} p(s_{t+1}=s'|s_t = s, at = a ) \\max_{\\pi'}Q^{\\pi'}(s',a') &= \\sum_{s'} p(s_{t+1}=s' |s_t = s, at = a ) Q^{\\hat{\\pi}(s',a')}(s',a') \\\\\n",
        "&\\leq \\max_{\\pi'} \\sum_{s'} p(s_{t+1}=s' |s_t = s, a_t = a )Q^{\\pi'}(s',a') \n",
        "\\end{align*}$\n",
        "\n",
        "$\\begin{align*}\n",
        "Q^{}(s,a)&= r(s,a) + \\gamma \\sum(p(s_{t+1}=s' |s_t = s, a_t = a )\\max_{a'}\\max_{\\pi'}Q^{\\pi'}(s',a') \\\\\n",
        "&= r(s,a) + \\gamma \\sum(p(s_{t+1}=s' |s_t = s, a_t = a )\\max_{a'} Q^{}(s',a') \\\\ &=E_{s'\\sim \\pi^*(.|s,a)}[r(s,a)+\\gamma\\max_{a'}Q^{*}(s',a')]\n",
        "\\end{align*}$\n",
        "\n",
        "Therefore\n",
        "\n",
        "$$\\boxed{Q^{*}(s,a)=E_{s'\\sim \\pi^*(.|s,a)}[r(s,a)+\\gamma\\max_{a'}Q^{*}(s',a')]}$$\n",
        "\n",
        "We deduce that the following objective function\n",
        "\n",
        "\\begin{equation*}\n",
        "\\mathcal{L}(\\theta)=E_{s' \\sim \\pi^*(.|s,a)}\\Vert r+\\gamma\\max\\max_{a'}Q(s',a',\\theta)-Q(s,a,\\theta)\\Vert^{2}.\n",
        "\\end{equation*}\n",
        "\n",
        "allows to enforce the previous equality, if our neural network perfectly converges then this equality must be true. Using this loss function we try to enforce our learned Q-value to verify the Bellman equation."
      ]
    },
    {
      "metadata": {
        "id": "bB1YN69GG3iN",
        "colab_type": "text"
      },
      "cell_type": "markdown",
      "source": [
        "***\n",
        "The DQN-learning algorithm relies on these derivations to train the parameters $\\theta$ of a Deep Neural Network:\n",
        "\n",
        "1. At the state $s_t$, select the action $a_t$ with best reward using $Q_t$ and store the results;\n",
        "\n",
        "2. Obtain the new state $s_{t+1}$ from the environment $p$;\n",
        "\n",
        "3. Store $(s_t,a_t,s_{t+1})$;\n",
        "\n",
        "4. Obtain $Q_{t+1}$ by minimizing  $\\mathcal{L}$ from a recovered batch from the previously stored results.\n",
        "\n",
        "***\n",
        "__Question 6__ Implement the class ```Memory``` that stores moves (in a replay buffer) via ```remember``` and provides a ```random_access``` to these. Specify a maximum memory size to avoid side effects. You can for example use a ```list()``` and set by default ```max_memory=100```."
      ]
    },
    {
      "metadata": {
        "id": "lcMYoPuRG3iQ",
        "colab_type": "code",
        "colab": {}
      },
      "cell_type": "code",
      "source": [
        "class Memory(object):\n",
        "    def __init__(self, max_memory=100):\n",
        "        self.max_memory = max_memory\n",
        "        self.memory = list()\n",
        "\n",
        "    def remember(self, m):\n",
        "        self.memory.append(m)\n",
        "        if len(self.memory)>self.max_memory:\n",
        "            del self.memory[0]\n",
        "\n",
        "    def random_access(self):\n",
        "        i = np.random.randint(0, len(self.memory), size=1)[0]\n",
        "        return self.memory[i]"
      ],
      "execution_count": 0,
      "outputs": []
    },
    {
      "metadata": {
        "id": "xcJYb3X_G3iX",
        "colab_type": "text"
      },
      "cell_type": "markdown",
      "source": [
        "***\n",
        "The pipeline we will use for training is given below:"
      ]
    },
    {
      "metadata": {
        "id": "H0CKedvHG3ie",
        "colab_type": "code",
        "colab": {}
      },
      "cell_type": "code",
      "source": [
        "def train(agent,env,epoch,prefix=''):\n",
        "    # Number of won games\n",
        "    score = 0\n",
        "    loss = 0\n",
        "\n",
        "    for e in range(epoch):\n",
        "        # At each epoch, we restart to a fresh game and get the initial state\n",
        "        state = env.reset()\n",
        "        # This assumes that the games will terminate\n",
        "        game_over = False\n",
        "\n",
        "        win = 0\n",
        "        lose = 0\n",
        "\n",
        "        while not game_over:\n",
        "            # The agent performs an action\n",
        "            action = agent.act(state)\n",
        "\n",
        "            # Apply an action to the environment, get the next state, the reward\n",
        "            # and if the games end\n",
        "            prev_state = state\n",
        "            state, reward, game_over = env.act(action)\n",
        "\n",
        "            # Update the counters\n",
        "            if reward > 0:\n",
        "                win = win + reward\n",
        "            if reward < 0:\n",
        "                lose = lose -reward\n",
        "\n",
        "            # Apply the reinforcement strategy\n",
        "            loss = agent.reinforce(prev_state, state,  action, reward, game_over)\n",
        "\n",
        "        # Save as a mp4\n",
        "        if e % 10 == 0:\n",
        "            env.draw(prefix+str(e))\n",
        "\n",
        "        # Update stats\n",
        "        score += win-lose\n",
        "\n",
        "        print(\"Epoch {:03d}/{:03d} | Loss {:.4f} | Win/lose count {}/{} ({})\"\n",
        "              .format(e, epoch, loss, win, lose, win-lose))\n",
        "        agent.save(name_weights=prefix+'model.h5',name_model=prefix+'model.json')"
      ],
      "execution_count": 0,
      "outputs": []
    },
    {
      "metadata": {
        "id": "dVr3kjkrG3it",
        "colab_type": "text"
      },
      "cell_type": "markdown",
      "source": [
        "***\n",
        "__Question 7__ Implement the DQN training algorithm using a cascade of fully connected layers. You can use different learning rate, batch size or memory size parameters. In particular, the loss might oscillate while the player will start to win the games. You have to find a good criterium."
      ]
    },
    {
      "metadata": {
        "id": "CPf20sRlG3iv",
        "colab_type": "code",
        "colab": {}
      },
      "cell_type": "code",
      "source": [
        "class DQN(Agent):\n",
        "    def __init__(self, grid_size,  epsilon = 0.1, memory_size=100, batch_size = 16,n_state=2):\n",
        "        super(DQN, self).__init__(epsilon = epsilon)\n",
        "\n",
        "        # Discount for Q learning\n",
        "        self.discount = 0.99\n",
        "        \n",
        "        self.grid_size = grid_size\n",
        "        \n",
        "        # number of state\n",
        "        self.n_state = n_state\n",
        "\n",
        "        # Memory\n",
        "        self.memory = Memory(memory_size)\n",
        "        \n",
        "        # Batch size when learning\n",
        "        self.batch_size = batch_size\n",
        "\n",
        "    def learned_act(self, s):\n",
        "        return np.argmax(self.model.predict(s.reshape([1,s.shape[0],s.shape[1],s.shape[2]]))[0,:])\n",
        "\n",
        "    def reinforce(self, s_, n_s_, a_, r_, game_over_):\n",
        "        # Two steps: first memorize the states, second learn from the pool\n",
        "        self.memory.remember([s_, n_s_, a_, r_, game_over_])\n",
        "        input_states = np.zeros((self.batch_size, 5,5,self.n_state))\n",
        "        target_q = np.zeros((self.batch_size, 4))\n",
        "        for i in range(self.batch_size):\n",
        "            s_, n_s_, a_, r_, game_over_  = self.memory.random_access()\n",
        "            target_q[i] =self.model.predict(s_.reshape([1,s_.shape[0],s_.shape[1],s_.shape[2]]))[0]\n",
        "            # We only improve the prediction where we have new information\n",
        "            # In case of no new information,we keep the previous prediction of the network\n",
        "            if game_over_:\n",
        "                input_states[i] = s_\n",
        "                target_q[i,a_] = r_\n",
        "            else:\n",
        "                input_states[i] = s_\n",
        "                target_q[i,a_] = r_  + self.discount*max(self.model.predict(n_s_.reshape([1,s_.shape[0],s_.shape[1],s_.shape[2]]))[0])\n",
        "        # HINT: Clip the target to avoid exploiding gradients.. -- clipping is a bit tighter\n",
        "        target_q = np.clip(target_q, -3, 3)\n",
        "        l = self.model.train_on_batch(input_states, target_q)\n",
        "        return l\n",
        "\n",
        "    def save(self,name_weights='model.h5',name_model='model.json'):\n",
        "        self.model.save_weights(name_weights, overwrite=True)\n",
        "        with open(name_model, \"w\") as outfile:\n",
        "            json.dump(self.model.to_json(), outfile)\n",
        "            \n",
        "    def load(self,name_weights='model.h5',name_model='model.json'):\n",
        "        with open(name_model, \"r\") as jfile:\n",
        "            model = model_from_json(json.load(jfile))\n",
        "        model.load_weights(name_weights)\n",
        "        model.compile(\"sgd\", \"mse\")\n",
        "        self.model = model\n",
        "\n",
        "            \n",
        "class DQN_FC(DQN):\n",
        "    def __init__(self, *args, lr=0.1,**kwargs):\n",
        "        super(DQN_FC, self).__init__( *args,**kwargs)\n",
        "        \n",
        "        # NN Model\n",
        "        model = Sequential()\n",
        "        model.add(Flatten(input_shape=(5,5,self.n_state,)))\n",
        "        model.add(Dense(30,activation ='relu')) #simple one hidden layer network\n",
        "        model.add(Dense(4))\n",
        "        model.compile(sgd(lr=lr, decay=1e-4, momentum=0.0), \"mse\")\n",
        "        self.model = model\n",
        "        "
      ],
      "execution_count": 0,
      "outputs": []
    },
    {
      "metadata": {
        "id": "oF77X6oOG3i7",
        "colab_type": "code",
        "outputId": "cdcc5828-9e4f-4447-b226-aafa96d4a318",
        "colab": {
          "base_uri": "https://localhost:8080/",
          "height": 1265
        }
      },
      "cell_type": "code",
      "source": [
        "env = Environment(grid_size=size, max_time=T, temperature=0.3)\n",
        "agent = DQN_FC(size, lr=.1, epsilon = 0.1, memory_size=2000, batch_size = 32)\n",
        "train(agent, env, epochs_train, prefix='fc_train')\n",
        "HTML(display_videos('fc_train10.mp4'))"
      ],
      "execution_count": 14,
      "outputs": [
        {
          "output_type": "stream",
          "text": [
            "WARNING:tensorflow:From /usr/local/lib/python3.6/dist-packages/tensorflow/python/framework/op_def_library.py:263: colocate_with (from tensorflow.python.framework.ops) is deprecated and will be removed in a future version.\n",
            "Instructions for updating:\n",
            "Colocations handled automatically by placer.\n",
            "WARNING:tensorflow:From /usr/local/lib/python3.6/dist-packages/tensorflow/python/ops/math_ops.py:3066: to_int32 (from tensorflow.python.ops.math_ops) is deprecated and will be removed in a future version.\n",
            "Instructions for updating:\n",
            "Use tf.cast instead.\n",
            "Epoch 000/050 | Loss 0.0294 | Win/lose count 3.0/1.0 (2.0)\n",
            "Epoch 001/050 | Loss 0.0046 | Win/lose count 2.5/0 (2.5)\n",
            "Epoch 002/050 | Loss 0.0053 | Win/lose count 2.5/5.0 (-2.5)\n",
            "Epoch 003/050 | Loss 0.0040 | Win/lose count 2.5/5.0 (-2.5)\n",
            "Epoch 004/050 | Loss 0.0146 | Win/lose count 5.5/4.0 (1.5)\n",
            "Epoch 005/050 | Loss 0.0043 | Win/lose count 1.0/3.0 (-2.0)\n",
            "Epoch 006/050 | Loss 0.0087 | Win/lose count 1.5/3.0 (-1.5)\n",
            "Epoch 007/050 | Loss 0.0066 | Win/lose count 3.5/4.0 (-0.5)\n",
            "Epoch 008/050 | Loss 0.0048 | Win/lose count 3.5/7.0 (-3.5)\n",
            "Epoch 009/050 | Loss 0.0053 | Win/lose count 3.5/2.0 (1.5)\n",
            "Epoch 010/050 | Loss 0.0041 | Win/lose count 4.0/3.0 (1.0)\n",
            "Epoch 011/050 | Loss 0.0042 | Win/lose count 1.5/4.0 (-2.5)\n",
            "Epoch 012/050 | Loss 0.0531 | Win/lose count 4.0/6.0 (-2.0)\n",
            "Epoch 013/050 | Loss 0.0582 | Win/lose count 4.0/7.0 (-3.0)\n",
            "Epoch 014/050 | Loss 0.0141 | Win/lose count 5.5/4.0 (1.5)\n",
            "Epoch 015/050 | Loss 0.0030 | Win/lose count 1.0/3.0 (-2.0)\n",
            "Epoch 016/050 | Loss 0.0045 | Win/lose count 3.5/5.0 (-1.5)\n",
            "Epoch 017/050 | Loss 0.0115 | Win/lose count 2.5/6.0 (-3.5)\n",
            "Epoch 018/050 | Loss 0.0049 | Win/lose count 3.0/5.0 (-2.0)\n",
            "Epoch 019/050 | Loss 0.0067 | Win/lose count 2.5/6.0 (-3.5)\n",
            "Epoch 020/050 | Loss 0.0038 | Win/lose count 2.5/2.0 (0.5)\n",
            "Epoch 021/050 | Loss 0.0066 | Win/lose count 8.0/4.0 (4.0)\n",
            "Epoch 022/050 | Loss 0.0045 | Win/lose count 8.0/4.0 (4.0)\n",
            "Epoch 023/050 | Loss 0.0021 | Win/lose count 3.0/2.0 (1.0)\n",
            "Epoch 024/050 | Loss 0.0068 | Win/lose count 4.0/3.0 (1.0)\n",
            "Epoch 025/050 | Loss 0.0103 | Win/lose count 2.5/1.0 (1.5)\n",
            "Epoch 026/050 | Loss 0.0105 | Win/lose count 4.0/3.0 (1.0)\n",
            "Epoch 027/050 | Loss 0.0102 | Win/lose count 1.0/4.0 (-3.0)\n",
            "Epoch 028/050 | Loss 0.0059 | Win/lose count 1.5/1.0 (0.5)\n",
            "Epoch 029/050 | Loss 0.0023 | Win/lose count 4.5/6.0 (-1.5)\n",
            "Epoch 030/050 | Loss 0.0029 | Win/lose count 6.0/3.0 (3.0)\n",
            "Epoch 031/050 | Loss 0.0078 | Win/lose count 10.5/10.0 (0.5)\n",
            "Epoch 032/050 | Loss 0.0032 | Win/lose count 4.5/4.0 (0.5)\n",
            "Epoch 033/050 | Loss 0.0073 | Win/lose count 6.0/4.0 (2.0)\n",
            "Epoch 034/050 | Loss 0.0105 | Win/lose count 3.5/3.0 (0.5)\n",
            "Epoch 035/050 | Loss 0.0845 | Win/lose count 3.0/3.0 (0.0)\n",
            "Epoch 036/050 | Loss 0.0028 | Win/lose count 1.5/2.0 (-0.5)\n",
            "Epoch 037/050 | Loss 0.0031 | Win/lose count 9.5/3.0 (6.5)\n",
            "Epoch 038/050 | Loss 0.0014 | Win/lose count 4.5/3.0 (1.5)\n",
            "Epoch 039/050 | Loss 0.0046 | Win/lose count 4.5/1.0 (3.5)\n",
            "Epoch 040/050 | Loss 0.0038 | Win/lose count 9.5/2.0 (7.5)\n",
            "Epoch 041/050 | Loss 0.0050 | Win/lose count 4.5/2.0 (2.5)\n",
            "Epoch 042/050 | Loss 0.0086 | Win/lose count 12.0/1.0 (11.0)\n",
            "Epoch 043/050 | Loss 0.0020 | Win/lose count 6.5/1.0 (5.5)\n",
            "Epoch 044/050 | Loss 0.0024 | Win/lose count 8.0/3.0 (5.0)\n",
            "Epoch 045/050 | Loss 0.0024 | Win/lose count 3.0/3.0 (0.0)\n",
            "Epoch 046/050 | Loss 0.0544 | Win/lose count 16.5/6.0 (10.5)\n",
            "Epoch 047/050 | Loss 0.0085 | Win/lose count 1.0/1.0 (0.0)\n",
            "Epoch 048/050 | Loss 0.0507 | Win/lose count 7.5/4.0 (3.5)\n",
            "Epoch 049/050 | Loss 0.0035 | Win/lose count 3.0/3.0 (0.0)\n"
          ],
          "name": "stdout"
        },
        {
          "output_type": "execute_result",
          "data": {
            "text/html": [
              "<video alt=\"test\" controls>\n",
              "                <source src=\"data:video/mp4;base64,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\" type=\"video/mp4\" />\n",
              "             </video>"
            ],
            "text/plain": [
              "<IPython.core.display.HTML object>"
            ]
          },
          "metadata": {
            "tags": []
          },
          "execution_count": 14
        }
      ]
    },
    {
      "metadata": {
        "id": "lBhiU89pDeWf",
        "colab_type": "text"
      },
      "cell_type": "markdown",
      "source": [
        "**Comment**\n",
        "\n",
        "- I tried to play with the learning rate and the $\\epsilon$ parameter that seems to both play an important role. I also tried various optimizers, batch size and memory size but those parameters seems to have a lower importance.\n",
        "- Best architecture is with 1 hidden layer with output size of 30 and $\\epsilon=0.1$"
      ]
    },
    {
      "metadata": {
        "id": "QVmH6XHMG3jB",
        "colab_type": "text"
      },
      "cell_type": "markdown",
      "source": [
        "***\n",
        "***\n",
        "__Question 8__ Implement the DQN training algorithm using a CNN (for example, 2 convolutional layers and one final fully connected layer)."
      ]
    },
    {
      "metadata": {
        "id": "_1ohFdKJG3jC",
        "colab_type": "code",
        "colab": {}
      },
      "cell_type": "code",
      "source": [
        "class DQN_CNN(DQN):\n",
        "    def __init__(self, *args,lr=0.1,**kwargs):\n",
        "        super(DQN_CNN, self).__init__(*args,**kwargs)\n",
        "        model=Sequential()\n",
        "        model.add(Conv2D(50,(2,2),input_shape=(5,5,self.n_state,),activation='relu'))\n",
        "        model.add(Conv2D(30,(2,2),activation='relu'))\n",
        "        model.add(Flatten())\n",
        "        model.add(Dense(4))\n",
        "        model.compile(sgd(lr=lr, decay=1e-4, momentum=0.0), \"mse\")\n",
        "        self.model = model"
      ],
      "execution_count": 0,
      "outputs": []
    },
    {
      "metadata": {
        "id": "EGc52f9LG3jK",
        "colab_type": "code",
        "outputId": "b3d38bb1-7c4a-4ad9-bc09-5a290c5ec474",
        "colab": {
          "base_uri": "https://localhost:8080/",
          "height": 1143
        }
      },
      "cell_type": "code",
      "source": [
        "env = Environment(grid_size=size, max_time=T, temperature=0.3)\n",
        "agent = DQN_CNN(size, lr=.1, epsilon = 0.1, memory_size=2000, batch_size = 32)\n",
        "train(agent,env,epochs_train,prefix='cnn_train')\n",
        "HTML(display_videos('cnn_train10.mp4'))"
      ],
      "execution_count": 16,
      "outputs": [
        {
          "output_type": "stream",
          "text": [
            "Epoch 000/050 | Loss 0.0030 | Win/lose count 1.5/2.0 (-0.5)\n",
            "Epoch 001/050 | Loss 0.0128 | Win/lose count 1.0/3.0 (-2.0)\n",
            "Epoch 002/050 | Loss 0.0022 | Win/lose count 4.0/1.0 (3.0)\n",
            "Epoch 003/050 | Loss 0.0023 | Win/lose count 4.0/2.0 (2.0)\n",
            "Epoch 004/050 | Loss 0.0005 | Win/lose count 5.0/1.0 (4.0)\n",
            "Epoch 005/050 | Loss 0.0047 | Win/lose count 4.5/1.0 (3.5)\n",
            "Epoch 006/050 | Loss 0.0025 | Win/lose count 2.5/2.0 (0.5)\n",
            "Epoch 007/050 | Loss 0.0013 | Win/lose count 1.5/1.0 (0.5)\n",
            "Epoch 008/050 | Loss 0.0009 | Win/lose count 2.0/4.0 (-2.0)\n",
            "Epoch 009/050 | Loss 0.0085 | Win/lose count 4.0/3.0 (1.0)\n",
            "Epoch 010/050 | Loss 0.0091 | Win/lose count 4.5/2.0 (2.5)\n",
            "Epoch 011/050 | Loss 0.0038 | Win/lose count 3.5/2.0 (1.5)\n",
            "Epoch 012/050 | Loss 0.0009 | Win/lose count 8.0/6.0 (2.0)\n",
            "Epoch 013/050 | Loss 0.0022 | Win/lose count 5.5/4.0 (1.5)\n",
            "Epoch 014/050 | Loss 0.0016 | Win/lose count 4.5/4.0 (0.5)\n",
            "Epoch 015/050 | Loss 0.0036 | Win/lose count 4.5/5.0 (-0.5)\n",
            "Epoch 016/050 | Loss 0.0019 | Win/lose count 10.0/4.0 (6.0)\n",
            "Epoch 017/050 | Loss 0.0014 | Win/lose count 7.0/2.0 (5.0)\n",
            "Epoch 018/050 | Loss 0.0039 | Win/lose count 5.5/3.0 (2.5)\n",
            "Epoch 019/050 | Loss 0.0039 | Win/lose count 10.5/1.0 (9.5)\n",
            "Epoch 020/050 | Loss 0.0021 | Win/lose count 9.0/3.0 (6.0)\n",
            "Epoch 021/050 | Loss 0.0009 | Win/lose count 6.5/1.0 (5.5)\n",
            "Epoch 022/050 | Loss 0.0024 | Win/lose count 9.5/4.0 (5.5)\n",
            "Epoch 023/050 | Loss 0.0544 | Win/lose count 14.5/2.0 (12.5)\n",
            "Epoch 024/050 | Loss 0.0041 | Win/lose count 6.5/3.0 (3.5)\n",
            "Epoch 025/050 | Loss 0.0024 | Win/lose count 8.5/0 (8.5)\n",
            "Epoch 026/050 | Loss 0.0038 | Win/lose count 10.0/4.0 (6.0)\n",
            "Epoch 027/050 | Loss 0.0080 | Win/lose count 11.0/2.0 (9.0)\n",
            "Epoch 028/050 | Loss 0.0458 | Win/lose count 10.0/2.0 (8.0)\n",
            "Epoch 029/050 | Loss 0.0045 | Win/lose count 9.0/3.0 (6.0)\n",
            "Epoch 030/050 | Loss 0.0022 | Win/lose count 14.0/4.0 (10.0)\n",
            "Epoch 031/050 | Loss 0.0033 | Win/lose count 6.0/2.0 (4.0)\n",
            "Epoch 032/050 | Loss 0.0024 | Win/lose count 15.0/3.0 (12.0)\n",
            "Epoch 033/050 | Loss 0.1041 | Win/lose count 7.0/1.0 (6.0)\n",
            "Epoch 034/050 | Loss 0.0012 | Win/lose count 5.0/0 (5.0)\n",
            "Epoch 035/050 | Loss 0.0032 | Win/lose count 4.0/2.0 (2.0)\n",
            "Epoch 036/050 | Loss 0.0017 | Win/lose count 14.0/2.0 (12.0)\n",
            "Epoch 037/050 | Loss 0.0013 | Win/lose count 12.0/1.0 (11.0)\n",
            "Epoch 038/050 | Loss 0.0062 | Win/lose count 16.0/2.0 (14.0)\n",
            "Epoch 039/050 | Loss 0.0016 | Win/lose count 21.0/3.0 (18.0)\n",
            "Epoch 040/050 | Loss 0.0045 | Win/lose count 9.0/5.0 (4.0)\n",
            "Epoch 041/050 | Loss 0.0099 | Win/lose count 13.5/1.0 (12.5)\n",
            "Epoch 042/050 | Loss 0.0049 | Win/lose count 12.5/3.0 (9.5)\n",
            "Epoch 043/050 | Loss 0.0056 | Win/lose count 16.5/3.0 (13.5)\n",
            "Epoch 044/050 | Loss 0.0572 | Win/lose count 19.5/2.0 (17.5)\n",
            "Epoch 045/050 | Loss 0.0028 | Win/lose count 23.0/7.0 (16.0)\n",
            "Epoch 046/050 | Loss 0.0025 | Win/lose count 22.5/3.0 (19.5)\n",
            "Epoch 047/050 | Loss 0.0018 | Win/lose count 10.5/4.0 (6.5)\n",
            "Epoch 048/050 | Loss 0.0027 | Win/lose count 13.5/5.0 (8.5)\n",
            "Epoch 049/050 | Loss 0.0017 | Win/lose count 13.5/1.0 (12.5)\n"
          ],
          "name": "stdout"
        },
        {
          "output_type": "execute_result",
          "data": {
            "text/html": [
              "<video alt=\"test\" controls>\n",
              "                <source src=\"data:video/mp4;base64,AAAAIGZ0eXBpc29tAAACAGlzb21pc28yYXZjMW1wNDEAAAAIZnJlZQAAFoNtZGF0AAACrQYF//+p3EXpvebZSLeWLNgg2SPu73gyNjQgLSBjb3JlIDE1MiByMjg1NCBlOWE1OTAzIC0gSC4yNjQvTVBFRy00IEFWQyBjb2RlYyAtIENvcHlsZWZ0IDIwMDMtMjAxNyAtIGh0dHA6Ly93d3cudmlkZW9sYW4ub3JnL3gyNjQuaHRtbCAtIG9wdGlvbnM6IGNhYmFjPTEgcmVmPTMgZGVibG9jaz0xOjA6MCBhbmFseXNlPTB4MToweDExMSBtZT1oZXggc3VibWU9NyBwc3k9MSBwc3lfcmQ9MS4wMDowLjAwIG1peGVkX3JlZj0xIG1lX3JhbmdlPTE2IGNocm9tYV9tZT0xIHRyZWxsaXM9MSA4eDhkY3Q9MCBjcW09MCBkZWFkem9uZT0yMSwxMSBmYXN0X3Bza2lwPTEgY2hyb21hX3FwX29mZnNldD00IHRocmVhZHM9MyBsb29rYWhlYWRfdGhyZWFkcz0xIHNsaWNlZF90aHJlYWRzPTAgbnI9MCBkZWNpbWF0ZT0xIGludGVybGFjZWQ9MCBibHVyYXlfY29tcGF0PTAgY29uc3RyYWluZWRfaW50cmE9MCBiZnJhbWVzPTMgYl9weXJhbWlkPTIgYl9hZGFwdD0xIGJfYmlhcz0wIGRpcmVjdD0xIHdlaWdodGI9MSBvcGVuX2dvcD0wIHdlaWdodHA9MiBrZXlpbnQ9MjUwIGtleWludF9taW49MjUgc2NlbmVjdXQ9NDAgaW50cmFfcmVmcmVzaD0wIHJjX2xvb2thaGVhZD00MCByYz1jcmYgbWJ0cmVlPTEgY3JmPTIzLjAgcWNvbXA9MC42MCBxcG1pbj0wIHFwbWF4PTY5IHFwc3RlcD00IGlwX3JhdGlvPTEuNDAgYXE9MToxLjAwAIAAAALgZYiEADf//vaH+BTZWBP+Wb/9DX/cj9uPrP1xYyEE31qvIejAGS+1H+b/rFFs6Z6UB/fgCJQAc24ZwpHZJ3iTdiOFrIMcHwKauk8XwKShR/HR0vxDElfLyhPgCZcvqFpmZeVofUCJ/GjDMygvNRatwlbLxKaU7fqyK1BSL66gm+oMRYELitiuPDhj8BJHTpInUMQHyj2ZbxNeJZujBRMQU8QkHN8qVYrqJ8cvsoFWAbVlydTu3tR475V27PE6Nukyz9CSB1twrVb27deV86CnljlkHkBQxAmwnukzA0LzwDv+XtM8YFZEe57I+P0A8e/H7kBpUWxQUUhoxxmPnLvibJ9IaI8BGXdpjpfr0G43alyZgL4GijeH0InVJmZfZhMEfaPJVgA1fJ9gHUMlpqIX88qfnIJQCGfExp/NPggI7GIDautyCc5B4QTMAIAigWiBL1M0FXKITRuYX6et/TTAEKIj+S19IOAW4LQZLZ7fYDk6Mu7+VKZd+igPJbIlM1BKYTdUYhqpXd4p+YMrVKQ8u8bMNGv/wOnyXLNATzB1kWaYa9Beas1FnEsMYErEZt200WDqPv15IUYdGy9Mqu6T+4ziINEgujNxiLMsUQHUuonIJCjk0Bj/HE7RACmR6dDotHoKyt/lK6I1NExGo8e7kmw0jskJ9BEALbVH6M7Gk47KP0z/6Z+6jBLRQsxyJPX5hXWYABSWXalb89UsfNaRRdc8w/Gvyc4XmDYZyr/7KgpmMZbA13y9WJwjfATvv72dDer4cR5kVJ+CMV8Gf2AjPWoJGcpjnszQ/qNXoO1zuUIjM5BbxZOrQsjwgcsz0KwsgyQb8H75ibRln3gGaOIUbvqaQyza6F1c2H4iNS2Z58Tn0WGZ2zwqTqHclWSk8sXcMtnTSTH2Y8AkHqSiKbvao+H5GrOcLIn7MxuZ2WP/r95cLrxvioxJp9l2Tj0r84WdOzksGJGFqRptyA1ROgAFLQAAABRBmiFsQ3/+p4QAQUz45wuNmCv/gAAAABhBmkQ8IZMphDf//qeEAENHzHJO42YK/zEAAAAOQZ5ialPCvwA3RGgbCcAAAAAPAZ6DakK/ADdWLAuv8AphAAAAEkGahkmoQWiZTBTw3/6nhAABJwAAABABnqVqQr8ANrqJ5EdfwMNBAAAAEkGaqEnhClJlMFLDf/6nhAABJwAAABABnsdqQr8ANrqJ5EdfwMNAAAAAEkGayknhDomUwUTDf/6nhAABJwAAABABnulqQr8ANrqJ5EdfwMNBAAAAEkGa7EnhDyZTBTw3//6nhAABJwAAABABnwtqQr8ANrqJ5EdfwMNAAAAAEkGbDknhDyZTBTw3//6nhAABJwAAABABny1qQr8ANrqJ5EdfwMNBAAAAEkGbMEnhDyZTBTw3//6nhAABJwAAABABn09qQr8ANrqJ5EdfwMNAAAAAEkGbUknhDyZTBTw3//6nhAABJwAAABABn3FqQr8ANrqJ5EdfwMNBAAAAEkGbdEnhDyZTBTw3//6nhAABJwAAABABn5NqQr8ANrqJ5EdfwMNAAAAAEkGblknhDyZTBTw3//6nhAABJwAAABABn7VqQr8ANrqJ5EdfwMNAAAAAEkGbuEnhDyZTBTw3//6nhAABJwAAABABn9dqQr8ANrqJ5EdfwMNBAAAAEkGb2knhDyZTBTw3//6nhAABJwAAABABn/lqQr8ANrqJ5EdfwMNBAAAAEkGb/EnhDyZTBTw3//6nhAABJwAAABABnhtqQr8ANrqJ5EdfwMNBAAAAEkGaHknhDyZTBTw3//6nhAABJwAAABABnj1qQr8ANrqJ5EdfwMNAAAAAGkGaIUnhDyZTAhn//p4QAZuQxz+HPiBw/wkHAAAAEkGeX0URPCv/AFZseBCRj9v7QQAAAA4BnmBqQr8AVmx66fqX2gAAABpBmmJJqEFomUwIb//+p4QAa91aOj7jZgr0EQAAABlBmoNJ4QpSZTAhv/6nhABsfYP8JwW6EmpAAAAAGEGapknhDomUwIb//qeEAEdHzHkYn+W3XwAAAA9BnsRFETwr/wA6AK4bBcEAAAAPAZ7lakK/AFrja7vu95whAAAAGkGa50moQWiZTAh3//6plgAlBRzrQ9X3yIPBAAAAH0GbCUnhClJlMFESw7/+qZYAJj9HPltvKs6IFuNVg4AAAAAQAZ8oakK/ADzK4NceKtpeIAAAAChBmy1J4Q6JlMCHf/6plgAbT2G+ZZWqarwKUSBeBTNcuPVpd6e3G5qRAAAAFEGfS0UVPC//AB/E9YwgMsf1irbAAAAADwGfanRCvwAqGWDBsxxKtwAAABABn2xqQr8ALFYR5LmfJVGBAAAAEkGbcUmoQWiZTAhv//6nhAABJwAAAAxBn49FESwv/wAAsoEAAAAQAZ+udEK/ACxdAOaJCOljuAAAABABn7BqQr8ALFG13Ac60GBwAAAAHEGbtEmoQWyZTAhv//6nhAA3fsH8+D6GOKEfrHEAAAARQZ/SRRUsK/8ALXSjeab3qTsAAAAOAZ/zakK/AC1tjHoiuY4AAAAaQZv3SahBbJlMCG///qeEACLfHT6jjQkOYEEAAAAPQZ4VRRUsK/8AHFB/zWDgAAAADwGeNmpCvwAS15ogtR5fDwAAAB9BmjlJqEFsmUwUTDf//qeEABbPdT91pZmptz7zawk5AAAAEAGeWGpCvwASWWQw+gJB0ZgAAAAZQZpaSeEKUmUwId/+qZYAB3/aX87pCmEn8QAAABJBmn5J4Q6JlMCHf/6plgAAlYAAAAAMQZ6cRRE8L/8AALKBAAAAEAGeu3RCvwAHsUN7Lqv4Y8EAAAAQAZ69akK/AAexQ3sVo+5OQAAAABNBmqJJqEFomUwId//+qZYAAJWAAAAADEGewEURLC//AACygQAAABABnv90Qr8AB7FDey6r+GPAAAAAEAGe4WpCvwAHsUN7FaPuTkEAAAATQZrmSahBbJlMCHf//qmWAACVgAAAAAxBnwRFFSwv/wAAsoEAAAAQAZ8jdEK/AAexQ3suq/hjwQAAABABnyVqQr8AB7FDexWj7k5BAAAAEkGbKkmoQWyZTAhv//6nhAABJwAAAAxBn0hFFSwv/wAAsoAAAAAQAZ9ndEK/AAexQ3suq/hjwAAAABABn2lqQr8AB7FDexWj7k5BAAAAGUGbbUmoQWyZTAhv//6nhAAJt8dMf4fVuAMAAAASQZ+LRRUsK/8AB8QYBAKYB1RgAAAADgGfrGpCvwAHxr9I90C/AAAAGkGbrkmoQWyZTAh3//6plgAEx+PP37INxV3hAAAAGkGb0knhClJlMCHf/qmWAAThQT8rf77S+7hxAAAAEEGf8EU0TC//AAXRlgnx9sAAAAAPAZ4PdEK/AAfGMPKGgZwnAAAADwGeEWpCvwAHxsCXK/xbQQAAABNBmhZJqEFomUwId//+qZYAAJWAAAAADEGeNEURLC//AACygAAAABABnlN0Qr8AB7FDey6r+GPBAAAAEAGeVWpCvwAHsUN7FaPuTkAAAAATQZpaSahBbJlMCHf//qmWAACVgQAAAAxBnnhFFSwv/wAAsoEAAAAQAZ6XdEK/AAexQ3suq/hjwAAAABABnplqQr8AB7FDexWj7k5BAAAAHEGankmoQWyZTAh3//6plgAE5+PP5dntQshS6SEAAAAQQZ68RRUsL/8ABdKBBShuGQAAAA8Bntt0Qr8AB8S/FwH5ssEAAAAPAZ7dakK/AAfEH9UigSwnAAAAGUGawkmoQWyZTAh3//6plgAE4VOH++0vu4cAAAAQQZ7gRRUsL/8ABdGWCfH2wQAAAA8Bnx90Qr8AB8Yw8oaBnCcAAAAPAZ8BakK/AAfGwJcr/FtBAAAAE0GbBkmoQWyZTAh3//6plgAAlYAAAAAMQZ8kRRUsL/8AALKBAAAAEAGfQ3RCvwAHsUN7Lqv4Y8EAAAAQAZ9FakK/AAexQ3sVo+5OQQAAABxBm0pJqEFsmUwId//+qZYABOfjz+XZ7ULIUukhAAAAEEGfaEUVLC//AAXSgQUobhgAAAAPAZ+HdEK/AAfEvxcB+bLAAAAADwGfiWpCvwAHxB/VIoEsJwAAABlBm45JqEFsmUwId//+qZYABOFTh/vtL7uHAAAAEEGfrEUVLC//AAXRlgnx9sAAAAAPAZ/LdEK/AAfGMPKGgZwnAAAADwGfzWpCvwAHxsCXK/xbQQAAABNBm9JJqEFsmUwId//+qZYAAJWBAAAADEGf8EUVLC//AACygAAAABABng90Qr8AB7FDey6r+GPAAAAAEAGeEWpCvwAHsUN7FaPuTkEAAAATQZoWSahBbJlMCHf//qmWAACVgAAAAAxBnjRFFSwv/wAAsoAAAAAQAZ5TdEK/AAexQ3suq/hjwQAAABABnlVqQr8AB7FDexWj7k5AAAAAE0GaWkmoQWyZTAh3//6plgAAlYEAAAAMQZ54RRUsL/8AALKBAAAAEAGel3RCvwAHsUN7Lqv4Y8AAAAAQAZ6ZakK/AAexQ3sVo+5OQQAAABNBmp5JqEFsmUwId//+qZYAAJWAAAAADEGevEUVLC//AACygQAAABABntt0Qr8AB7FDey6r+GPBAAAAEAGe3WpCvwAHsUN7FaPuTkAAAAASQZrCSahBbJlMCG///qeEAAEnAAAADEGe4EUVLC//AACygQAAABABnx90Qr8ADEWVd1gLOq9AAAAAEAGfAWpCvwAHsUN7FaPuTkEAAAAaQZsDSahBbJlMCHf//qmWAATn48/fsg3FXTAAAAAWQZsnSeEKUmUwId/+qZYAAgP2c/WqIQAAAA5Bn0VFNEwv/wACa0AvYQAAABABn2R0Qr8ABQ7KO/AB90vBAAAAEAGfZmpCvwAFDso72ePul4EAAAAcQZtrSahBaJlMCHf//qmWAAMt7S/r+q1CyFLp7gAAABBBn4lFESwv/wADtp07/OwoAAAADwGfqHRCvwAFHjCAyS7fgQAAAA8Bn6pqQr8ABR226UaQ8wEAAAAZQZuvSahBbJlMCHf//qmWAAMpc6P99pfeQwAAABBBn81FFSwv/wADtfw9ddZBAAAAEAGf7HRCvwAFHy1QOnaifIEAAAAPAZ/uakK/AAUflYF1/kpBAAAAE0Gb80moQWyZTAh3//6plgAAlYAAAAAMQZ4RRRUsL/8AALKAAAAADwGeMHRCvwAFDso4jsuzvwAAAA8BnjJqQr8ABQ7KN1nq0SkAAAAcQZo3SahBbJlMCHf//qmWAATAo6hBmgU+jH6cfAAAABBBnlVFFSwv/wAFroEVpRtlAAAADwGedHRCvwAFHjGLgPztoAAAABABnnZqQr8AB5mfMbockHj5AAAAGkGaeUmoQWyZTBRMO//+qZYABMfjz+ZsUyP1AAAAEAGemGpCvwAHmCJmm+kg8fAAAAASQZqdSeEKUmUwId/+qZYAAJWBAAAAE0Geu0U0TC//AAO3EtmpmWXIa2IAAAAPAZ7adEK/AAUdOUKTbJaLAAAAEAGe3GpCvwAFHsI8mB6+qYEAAAATQZrBSahBaJlMCHf//qmWAACVgAAAAAxBnv9FESwv/wAAsoAAAAAQAZ8edEK/AAUOyjvwAfdLwQAAABABnwBqQr8ABQ7KO9nj7peAAAAAE0GbBUmoQWyZTAh3//6plgAAlYEAAAAMQZ8jRRUsL/8AALKAAAAAEAGfQnRCvwAFDso78AH3S8EAAAAPAZ9EakK/AAUOyjdZ6tEpAAAAE0GbSUmoQWyZTAh3//6plgAAlYEAAAAMQZ9nRRUsL/8AALKBAAAAEAGfhnRCvwAFDso78AH3S8AAAAAQAZ+IakK/AAUOyjvZ4+6XgAAAABNBm41JqEFsmUwId//+qZYAAJWBAAAADEGfq0UVLC//AACygAAAABABn8p0Qr8ABQ7KO/AB90vAAAAAEAGfzGpCvwAFDso72ePul4EAAAATQZvRSahBbJlMCHf//qmWAACVgQAAAAxBn+9FFSwv/wAAsoEAAAAQAZ4OdEK/AAfGxWL0EtzjwAAAABABnhBqQr8ABQ7KO9nj7peAAAAAE0GaFUmoQWyZTAh3//6plgAAlYEAAAAMQZ4zRRUsL/8AALKAAAAAEAGeUnRCvwAHxsVi9BLc48AAAAAQAZ5UakK/AAUOyjvZ4+6XgQAAABNBmllJqEFsmUwId//+qZYAAJWAAAAADEGed0UVLC//AACygQAAABABnpZ0Qr8ABQ7KO/AB90vBAAAAEAGemGpCvwAFDso72ePul4AAAAATQZqdSahBbJlMCHf//qmWAACVgQAAAAxBnrtFFSwv/wAAsoAAAAAQAZ7adEK/AAUOyjvwAfdLwQAAABABntxqQr8ABQ7KO9nj7peBAAAAEkGawUmoQWyZTAhv//6nhAABJwAAABRBnv9FFSwv/wAFrTZ+ZtxC3P9tzAAAABABnx50Qr8AB5ozIjsWYppJAAAAEAGfAGpCvwAHmCJmm+kg8fAAAAASQZsFSahBbJlMCGf//p4QAAR9AAAADEGfI0UVLC//AACygAAAABABn0J0Qr8ABQ7KO/AB90vBAAAADwGfRGpCvwAFDso3WerRKQAAABpBm0lLqEIQWyRGCCgH8gH9h4AhX/44QAARcQAAACNBn2dFFSwv/wIB3OpL2zMKuYDoGrWoXAlAGWiTwt8ykzScMQAAABABn4Z0Qr8ABQ7KO/AB90vAAAAAJAGfiGpCvwKvY+1BxN2qw0km5aqGByy1u80qIJouVCIRkWn1kAAADEhtb292AAAAbG12aGQAAAAAAAAAAAAAAAAAAAPoAAAfkAABAAABAAAAAAAAAAAAAAAAAQAAAAAAAAAAAAAAAAAAAAEAAAAAAAAAAAAAAAAAAEAAAAAAAAAAAAAAAAAAAAAAAAAAAAAAAAAAAAAAAAACAAALcnRyYWsAAABcdGtoZAAAAAMAAAAAAAAAAAAAAAEAAAAAAAAfkAAAAAAAAAAAAAAAAAAAAAAAAQAAAAAAAAAAAAAAAAAAAAEAAAAAAAAAAAAAAAAAAEAAAAABEAAAARAAAAAAACRlZHRzAAAAHGVsc3QAAAAAAAAAAQAAH5AAAAQAAAEAAAAACuptZGlhAAAAIG1kaGQAAAAAAAAAAAAAAAAAADIAAAGUAFXEAAAAAAAtaGRscgAAAAAAAAAAdmlkZQAAAAAAAAAAAAAAAFZpZGVvSGFuZGxlcgAAAAqVbWluZgAAABR2bWhkAAAAAQAAAAAAAAAAAAAAJGRpbmYAAAAcZHJlZgAAAAAAAAABAAAADHVybCAAAAABAAAKVXN0YmwAAACVc3RzZAAAAAAAAAABAAAAhWF2YzEAAAAAAAAAAQAAAAAAAAAAAAAAAAAAAAABEAEQAEgAAABIAAAAAAAAAAEAAAAAAAAAAAAAAAAAAAAAAAAAAAAAAAAAAAAAAAAAAAAY//8AAAAvYXZjQwH0AA3/4QAXZ/QADZGbKCIR0IAAAAMAgAAAGQeKFMsBAAVo6+PESAAAABhzdHRzAAAAAAAAAAEAAADKAAACAAAAABRzdHNzAAAAAAAAAAEAAAABAAAGIGN0dHMAAAAAAAAAwgAAAAIAAAQAAAAAAQAACAAAAAACAAACAAAAAAEAAAYAAAAAAQAAAgAAAAABAAAGAAAAAAEAAAIAAAAAAQAABgAAAAABAAACAAAAAAEAAAYAAAAAAQAAAgAAAAABAAAGAAAAAAEAAAIAAAAAAQAABgAAAAABAAACAAAAAAEAAAYAAAAAAQAAAgAAAAABAAAGAAAAAAEAAAIAAAAAAQAABgAAAAABAAACAAAAAAEAAAYAAAAAAQAAAgAAAAABAAAGAAAAAAEAAAIAAAAAAQAABgAAAAABAAACAAAAAAEAAAYAAAAAAQAAAgAAAAABAAAIAAAAAAIAAAIAAAAAAgAABAAAAAABAAAIAAAAAAIAAAIAAAAAAQAABAAAAAABAAAGAAAAAAEAAAIAAAAAAQAACgAAAAABAAAEAAAAAAEAAAAAAAAAAQAAAgAAAAABAAAKAAAAAAEAAAQAAAAAAQAAAAAAAAABAAACAAAAAAEAAAgAAAAAAgAAAgAAAAABAAAIAAAAAAIAAAIAAAAAAQAABgAAAAABAAACAAAAAAEAAAQAAAAAAQAACgAAAAABAAAEAAAAAAEAAAAAAAAAAQAAAgAAAAABAAAKAAAAAAEAAAQAAAAAAQAAAAAAAAABAAACAAAAAAEAAAoAAAAAAQAABAAAAAABAAAAAAAAAAEAAAIAAAAAAQAACgAAAAABAAAEAAAAAAEAAAAAAAAAAQAAAgAAAAABAAAIAAAAAAIAAAIAAAAAAQAABAAAAAABAAAKAAAAAAEAAAQAAAAAAQAAAAAAAAABAAACAAAAAAEAAAoAAAAAAQAABAAAAAABAAAAAAAAAAEAAAIAAAAAAQAACgAAAAABAAAEAAAAAAEAAAAAAAAAAQAAAgAAAAABAAAKAAAAAAEAAAQAAAAAAQAAAAAAAAABAAACAAAAAAEAAAoAAAAAAQAABAAAAAABAAAAAAAAAAEAAAIAAAAAAQAACgAAAAABAAAEAAAAAAEAAAAAAAAAAQAAAgAAAAABAAAKAAAAAAEAAAQAAAAAAQAAAAAAAAABAAACAAAAAAEAAAoAAAAAAQAABAAAAAABAAAAAAAAAAEAAAIAAAAAAQAACgAAAAABAAAEAAAAAAEAAAAAAAAAAQAAAgAAAAABAAAKAAAAAAEAAAQAAAAAAQAAAAAAAAABAAACAAAAAAEAAAoAAAAAAQAABAAAAAABAAAAAAAAAAEAAAIAAAAAAQAACgAAAAABAAAEAAAAAAEAAAAAAAAAAQAAAgAAAAABAAAKAAAAAAEAAAQAAAAAAQAAAAAAAAABAAACAAAAAAEAAAQAAAAAAQAACgAAAAABAAAEAAAAAAEAAAAAAAAAAQAAAgAAAAABAAAKAAAAAAEAAAQAAAAAAQAAAAAAAAABAAACAAAAAAEAAAoAAAAAAQAABAAAAAABAAAAAAAAAAEAAAIAAAAAAQAACgAAAAABAAAEAAAAAAEAAAAAAAAAAQAAAgAAAAABAAAKAAAAAAEAAAQAAAAAAQAAAAAAAAABAAACAAAAAAEAAAYAAAAAAQAAAgAAAAABAAAKAAAAAAEAAAQAAAAAAQAAAAAAAAABAAACAAAAAAEAAAoAAAAAAQAABAAAAAABAAAAAAAAAAEAAAIAAAAAAQAACgAAAAABAAAEAAAAAAEAAAAAAAAAAQAAAgAAAAABAAAKAAAAAAEAAAQAAAAAAQAAAAAAAAABAAACAAAAAAEAAAoAAAAAAQAABAAAAAABAAAAAAAAAAEAAAIAAAAAAQAACgAAAAABAAAEAAAAAAEAAAAAAAAAAQAAAgAAAAABAAAKAAAAAAEAAAQAAAAAAQAAAAAAAAABAAACAAAAAAEAAAoAAAAAAQAABAAAAAABAAAAAAAAAAEAAAIAAAAAAQAACgAAAAABAAAEAAAAAAEAAAAAAAAAAQAAAgAAAAABAAAKAAAAAAEAAAQAAAAAAQAAAAAAAAABAAACAAAAAAEAAAoAAAAAAQAABAAAAAABAAAAAAAAAAEAAAIAAAAAAQAACgAAAAABAAAEAAAAAAEAAAAAAAAAAQAAAgAAAAAcc3RzYwAAAAAAAAABAAAAAQAAAMoAAAABAAADPHN0c3oAAAAAAAAAAAAAAMoAAAWVAAAAGAAAABwAAAASAAAAEwAAABYAAAAUAAAAFgAAABQAAAAWAAAAFAAAABYAAAAUAAAAFgAAABQAAAAWAAAAFAAAABYAAAAUAAAAFgAAABQAAAAWAAAAFAAAABYAAAAUAAAAFgAAABQAAAAWAAAAFAAAABYAAAAUAAAAHgAAABYAAAASAAAAHgAAAB0AAAAcAAAAEwAAABMAAAAeAAAAIwAAABQAAAAsAAAAGAAAABMAAAAUAAAAFgAAABAAAAAUAAAAFAAAACAAAAAVAAAAEgAAAB4AAAATAAAAEwAAACMAAAAUAAAAHQAAABYAAAAQAAAAFAAAABQAAAAXAAAAEAAAABQAAAAUAAAAFwAAABAAAAAUAAAAFAAAABYAAAAQAAAAFAAAABQAAAAdAAAAFgAAABIAAAAeAAAAHgAAABQAAAATAAAAEwAAABcAAAAQAAAAFAAAABQAAAAXAAAAEAAAABQAAAAUAAAAIAAAABQAAAATAAAAEwAAAB0AAAAUAAAAEwAAABMAAAAXAAAAEAAAABQAAAAUAAAAIAAAABQAAAATAAAAEwAAAB0AAAAUAAAAEwAAABMAAAAXAAAAEAAAABQAAAAUAAAAFwAAABAAAAAUAAAAFAAAABcAAAAQAAAAFAAAABQAAAAXAAAAEAAAABQAAAAUAAAAFgAAABAAAAAUAAAAFAAAAB4AAAAaAAAAEgAAABQAAAAUAAAAIAAAABQAAAATAAAAEwAAAB0AAAAUAAAAFAAAABMAAAAXAAAAEAAAABMAAAATAAAAIAAAABQAAAATAAAAFAAAAB4AAAAUAAAAFgAAABcAAAATAAAAFAAAABcAAAAQAAAAFAAAABQAAAAXAAAAEAAAABQAAAATAAAAFwAAABAAAAAUAAAAFAAAABcAAAAQAAAAFAAAABQAAAAXAAAAEAAAABQAAAAUAAAAFwAAABAAAAAUAAAAFAAAABcAAAAQAAAAFAAAABQAAAAXAAAAEAAAABQAAAAUAAAAFgAAABgAAAAUAAAAFAAAABYAAAAQAAAAFAAAABMAAAAeAAAAJwAAABQAAAAoAAAAFHN0Y28AAAAAAAAAAQAAADAAAABidWR0YQAAAFptZXRhAAAAAAAAACFoZGxyAAAAAAAAAABtZGlyYXBwbAAAAAAAAAAAAAAAAC1pbHN0AAAAJal0b28AAAAdZGF0YQAAAAEAAAAATGF2ZjU3LjgzLjEwMA==\" type=\"video/mp4\" />\n",
              "             </video>"
            ],
            "text/plain": [
              "<IPython.core.display.HTML object>"
            ]
          },
          "metadata": {
            "tags": []
          },
          "execution_count": 16
        }
      ]
    },
    {
      "metadata": {
        "id": "axBSOuNqENmv",
        "colab_type": "text"
      },
      "cell_type": "markdown",
      "source": [
        "**Comment**\n",
        "\n",
        "- I decided to set the learning rate and the $\\epsilon$ parameters to 0.1 because it appears to be some good parameters in order to obtain a good solution to our problem. \n",
        "- I set the number of epochs to 50 and I tried various architecture: several layers, maxpooling2D,dropout,...\n",
        "- Best architecture is the proposed one :  2 hidden Convolution Layer ((50,(2,2) and then (30,(2,2)) , relu activations"
      ]
    },
    {
      "metadata": {
        "id": "142g26BxG3ja",
        "colab_type": "text"
      },
      "cell_type": "markdown",
      "source": [
        "***\n",
        "***\n",
        "__Question 9__ Test both algorithms and compare their performances. Which issue(s) do you observe? Observe also different behaviors by changing the temperature."
      ]
    },
    {
      "metadata": {
        "id": "Wxv_qYfSD_0o",
        "colab_type": "text"
      },
      "cell_type": "markdown",
      "source": [
        "In the following questions we use the  two networks that have provided the best outcomes in question 7 and question 8:\n",
        "- Fully Connected - 1 hidden layers with output of size 30 -\n",
        "- CNN - 2 hidden Convolution Layer ((50,(2,2) and then (30,(2,2)) , relu activations"
      ]
    },
    {
      "metadata": {
        "id": "LBHuaV0wG3jb",
        "colab_type": "code",
        "colab": {
          "base_uri": "https://localhost:8080/",
          "height": 425
        },
        "outputId": "1d04d8ae-675a-4cb1-fce9-c8990b44e5fd"
      },
      "cell_type": "code",
      "source": [
        "env = Environment(grid_size=size, max_time=T,temperature=0.3)\n",
        "agent_cnn = DQN_CNN(size, lr=.1, epsilon = 0.1, memory_size=2000, batch_size = 32)\n",
        "agent_cnn.load(name_weights='cnn_trainmodel.h5',name_model='cnn_trainmodel.json')\n",
        "\n",
        "agent_fc = DQN_FC(size, lr=.1, epsilon = 0.1, memory_size=2000, batch_size = 32)\n",
        "agent_cnn.load(name_weights='fc_trainmodel.h5',name_model='fc_trainmodel.json')\n",
        "print('Test of the CNN')\n",
        "test(agent_cnn,env,epochs_test,prefix='cnn_test')\n",
        "print('Test of the FC')\n",
        "test(agent_fc,env,epochs_test,prefix='fc_test')"
      ],
      "execution_count": 17,
      "outputs": [
        {
          "output_type": "stream",
          "text": [
            "Test of the CNN\n",
            "Win/lose count 1.0/0. Average score (1.0)\n",
            "Win/lose count 0.5/0. Average score (0.75)\n",
            "Win/lose count 1.5/0. Average score (1.0)\n",
            "Win/lose count 2.5/0. Average score (1.375)\n",
            "Win/lose count 4.0/1.0. Average score (1.7)\n",
            "Win/lose count 2.5/0. Average score (1.8333333333333333)\n",
            "Win/lose count 0.5/0. Average score (1.6428571428571428)\n",
            "Win/lose count 6.5/0. Average score (2.25)\n",
            "Win/lose count 4.0/0. Average score (2.4444444444444446)\n",
            "Win/lose count 1.0/0. Average score (2.3)\n",
            "Final score: 2.3\n",
            "Test of the FC\n",
            "Win/lose count 0.5/4.0. Average score (-3.5)\n",
            "Win/lose count 0.5/1.0. Average score (-2.0)\n",
            "Win/lose count 0/1.0. Average score (-1.6666666666666667)\n",
            "Win/lose count 1.0/0. Average score (-1.0)\n",
            "Win/lose count 0/0. Average score (-0.8)\n",
            "Win/lose count 1.0/0. Average score (-0.5)\n",
            "Win/lose count 0/0. Average score (-0.42857142857142855)\n",
            "Win/lose count 0.5/1.0. Average score (-0.4375)\n",
            "Win/lose count 1.5/2.0. Average score (-0.4444444444444444)\n",
            "Win/lose count 1.5/5.0. Average score (-0.75)\n",
            "Final score: -0.75\n"
          ],
          "name": "stdout"
        }
      ]
    },
    {
      "metadata": {
        "id": "qqmctCTuG3jh",
        "colab_type": "code",
        "colab": {
          "base_uri": "https://localhost:8080/",
          "height": 293
        },
        "outputId": "e719a700-1f2e-4598-e4f4-d7849116bb53"
      },
      "cell_type": "code",
      "source": [
        "HTML(display_videos('cnn_test9.mp4'))"
      ],
      "execution_count": 25,
      "outputs": [
        {
          "output_type": "execute_result",
          "data": {
            "text/html": [
              "<video alt=\"test\" controls>\n",
              "                <source src=\"data:video/mp4;base64,AAAAIGZ0eXBpc29tAAACAGlzb21pc28yYXZjMW1wNDEAAAAIZnJlZQAAFj9tZGF0AAACrQYF//+p3EXpvebZSLeWLNgg2SPu73gyNjQgLSBjb3JlIDE1MiByMjg1NCBlOWE1OTAzIC0gSC4yNjQvTVBFRy00IEFWQyBjb2RlYyAtIENvcHlsZWZ0IDIwMDMtMjAxNyAtIGh0dHA6Ly93d3cudmlkZW9sYW4ub3JnL3gyNjQuaHRtbCAtIG9wdGlvbnM6IGNhYmFjPTEgcmVmPTMgZGVibG9jaz0xOjA6MCBhbmFseXNlPTB4MToweDExMSBtZT1oZXggc3VibWU9NyBwc3k9MSBwc3lfcmQ9MS4wMDowLjAwIG1peGVkX3JlZj0xIG1lX3JhbmdlPTE2IGNocm9tYV9tZT0xIHRyZWxsaXM9MSA4eDhkY3Q9MCBjcW09MCBkZWFkem9uZT0yMSwxMSBmYXN0X3Bza2lwPTEgY2hyb21hX3FwX29mZnNldD00IHRocmVhZHM9MyBsb29rYWhlYWRfdGhyZWFkcz0xIHNsaWNlZF90aHJlYWRzPTAgbnI9MCBkZWNpbWF0ZT0xIGludGVybGFjZWQ9MCBibHVyYXlfY29tcGF0PTAgY29uc3RyYWluZWRfaW50cmE9MCBiZnJhbWVzPTMgYl9weXJhbWlkPTIgYl9hZGFwdD0xIGJfYmlhcz0wIGRpcmVjdD0xIHdlaWdodGI9MSBvcGVuX2dvcD0wIHdlaWdodHA9MiBrZXlpbnQ9MjUwIGtleWludF9taW49MjUgc2NlbmVjdXQ9NDAgaW50cmFfcmVmcmVzaD0wIHJjX2xvb2thaGVhZD00MCByYz1jcmYgbWJ0cmVlPTEgY3JmPTIzLjAgcWNvbXA9MC42MCBxcG1pbj0wIHFwbWF4PTY5IHFwc3RlcD00IGlwX3JhdGlvPTEuNDAgYXE9MToxLjAwAIAAAALuZYiEADf//vaH+BTZWBP+Wb/9DX/cj9uPrP1xYyEE31qvIejAGS+1H+b/rFFs6Z6UB/fgCJQAc24ZwpJw4v/ApLdW+BTLYTnGrzD8eNPwpbJHJ82/v9XHS8/Vpmarq0PUSARzO5kFPuMgedR8qpm1WFCHzOOngBekVDdSWJ8XL0Wte0RsRwgs7Q4d6aN57cgi1XwRUceyJ36gRYIJfcB4Ep8fr+Irv9bWJfap5oks9W75ivlFuXkzaS6Wk/KrchK0QIhR48TcgEJeJQTplbhAwAf6CjvaAYlG9gItTEOgFhczb42LeHPYMICjjmBflKpQ9RSB9b20+Yi/NiD/QFQlz1VV11TGjVf9jmU0t/qdf9PxSRZRwzKQSJdbb5KF+C3akHkf4bqmkR6aL4A+g8dg5ZDM5aYAoDgIFJXt40rUO36KXDrhPfECEXb7IkYBA0rRYkfMS48iMcGz1fNL+CYGQRoe0A0FOv8GKBmO5NLwl4iPx8hp+IL0MrpbLQdUz07oYiQlECao8C4QANUpE5VV4a5ByhcCe5OTvuyDIaAu0xSxE1tzA5mnOyjbMAQaoK33+xwR/cHOcWOO+UNFw4289EGEREnRxb3Qj/YfCtgRGSCKsTQpsCdjA1VrQrkw40TqeUspp+acHtZo98Tw9YqAGR9jDU6zjr7ScDJPICqk09ppxJVTlMz6yy54dOHN393gV+z97rQqH33O7WJ/B6f9x/eBAwAQAAT6nRTJDiC/szJ4wrvtlX4sFPIF7yjcdxsN9QfAeV115r6YfcANutxRkxCRn1HOJAcTOwCh2M9yFtzojF6CsW8SsKz6icj9/WVRIXTrfOQvyFxFolj9fBqe4IssBsZgEzyuP+lEFJooEE/utxPUE98cwn0L49E+WJhi7SlV8Oe4/hehK+ihHqRxPSL9h4AzBjQACZANbvds5tT8vh8ZVdJlHJd7C/KlresqxZRgpLhOpUORoIBPlLCGYZ6RAB1MELePjpNgACGhAAAAGEGaImxDf/6nhAEl+jn5L2beZZYmR2hCDgAAABABnkF5Cv8A8pqHN8QNI/ehAAAAGkGaRTwhkymEN//+p4QAw/sHr2Z8DOpe+FlAAAAAEUGeY2pTwr8AnzYAgFMA5BbBAAAADgGehGpCvwCfcpV1Om2fAAAAGkGahkmoQWiZTAh3//6plgCUIsN0YhHPr+DhAAAAEkGaqknhClJlMCHf/qmWAACVgQAAABNBnshFNEwv/wCxZLcpmPmIirI+AAAAEAGe53RCvwDytga2mUPR3EAAAAAQAZ7pakK/AO0z5jdDkg4oOQAAABNBmu5JqEFomUwId//+qZYAAJWAAAAAEEGfDEURLC//ALFktz9cRVsAAAAQAZ8rdEK/APK2BraZQ9HcQQAAABABny1qQr8A7TPmN0OSDig5AAAAE0GbMkmoQWyZTAh3//6plgAAlYEAAAAQQZ9QRRUsL/8AsWS3P1xFWwAAABABn290Qr8A8rYGtplD0dxAAAAAEAGfcWpCvwDtM+Y3Q5IOKDkAAAATQZt2SahBbJlMCHf//qmWAACVgAAAABBBn5RFFSwv/wCxZLc/XEVbAAAAEAGfs3RCvwDytga2mUPR3EEAAAAQAZ+1akK/AO0z5jdDkg4oOAAAABNBm7pJqEFsmUwId//+qZYAAJWBAAAAEEGf2EUVLC//ALFktz9cRVsAAAAQAZ/3dEK/APK2BraZQ9HcQAAAABABn/lqQr8A7TPmN0OSDig5AAAAE0Gb/kmoQWyZTAh3//6plgAAlYAAAAAQQZ4cRRUsL/8AsWS3P1xFWwAAABABnjt0Qr8A8rYGtplD0dxBAAAAEAGePWpCvwDtM+Y3Q5IOKDgAAAATQZoiSahBbJlMCHf//qmWAACVgAAAABBBnkBFFSwv/wCxZLc/XEVbAAAAEAGef3RCvwDytga2mUPR3EAAAAAQAZ5hakK/AO0z5jdDkg4oOQAAABNBmmZJqEFsmUwId//+qZYAAJWAAAAAEEGehEUVLC//ALFktz9cRVsAAAAQAZ6jdEK/APK2BraZQ9HcQQAAABABnqVqQr8A7TPmN0OSDig5AAAAE0GaqkmoQWyZTAh3//6plgAAlYEAAAAQQZ7IRRUsL/8AsWS3P1xFWwAAABABnud0Qr8A8rYGtplD0dxAAAAAEAGe6WpCvwDtM+Y3Q5IOKDkAAAATQZruSahBbJlMCHf//qmWAACVgAAAABBBnwxFFSwv/wCxZLc/XEVbAAAAEAGfK3RCvwDytga2mUPR3EEAAAAQAZ8takK/AO0z5jdDkg4oOQAAABNBmzJJqEFsmUwId//+qZYAAJWBAAAAEEGfUEUVLC//ALFktz9cRVsAAAAQAZ9vdEK/APK2BraZQ9HcQAAAABABn3FqQr8A7TPmN0OSDig5AAAAE0GbdkmoQWyZTAh3//6plgAAlYAAAAAQQZ+URRUsL/8AsWS3P1xFWwAAABABn7N0Qr8A8rYGtplD0dxBAAAAEAGftWpCvwDtM+Y3Q5IOKDgAAAATQZu6SahBbJlMCHf//qmWAACVgQAAABBBn9hFFSwv/wCxZLc/XEVbAAAAEAGf93RCvwDytga2mUPR3EAAAAAQAZ/5akK/AO0z5jdDkg4oOQAAABNBm/5JqEFsmUwId//+qZYAAJWAAAAAEEGeHEUVLC//ALFktz9cRVsAAAAQAZ47dEK/APK2BraZQ9HcQQAAABABnj1qQr8A7TPmN0OSDig4AAAAE0GaIkmoQWyZTAh3//6plgAAlYAAAAAQQZ5ARRUsL/8AsWS3P1xFWwAAABABnn90Qr8A8rYGtplD0dxAAAAAEAGeYWpCvwDtM+Y3Q5IOKDkAAAATQZpmSahBbJlMCHf//qmWAACVgAAAABBBnoRFFSwv/wCxZLc/XEVbAAAAEAGeo3RCvwDytga2mUPR3EEAAAAQAZ6lakK/AO0z5jdDkg4oOQAAABNBmqpJqEFsmUwId//+qZYAAJWBAAAAEEGeyEUVLC//ALFktz9cRVsAAAAQAZ7ndEK/APK2BraZQ9HcQAAAABABnulqQr8A7TPmN0OSDig5AAAAE0Ga7kmoQWyZTAh3//6plgAAlYAAAAAQQZ8MRRUsL/8AsWS3P1xFWwAAABABnyt0Qr8A8rYGtplD0dxBAAAAEAGfLWpCvwDtM+Y3Q5IOKDkAAAATQZsySahBbJlMCHf//qmWAACVgQAAABBBn1BFFSwv/wCxZLc/XEVbAAAAEAGfb3RCvwDytga2mUPR3EAAAAAQAZ9xakK/AO0z5jdDkg4oOQAAABNBm3ZJqEFsmUwId//+qZYAAJWAAAAAEEGflEUVLC//ALFktz9cRVsAAAAQAZ+zdEK/APK2BraZQ9HcQQAAABABn7VqQr8A7TPmN0OSDig4AAAAE0GbukmoQWyZTAh3//6plgAAlYEAAAAQQZ/YRRUsL/8AsWS3P1xFWwAAABABn/d0Qr8A8rYGtplD0dxAAAAAEAGf+WpCvwDtM+Y3Q5IOKDkAAAATQZv+SahBbJlMCHf//qmWAACVgAAAABBBnhxFFSwv/wCxZLc/XEVbAAAAEAGeO3RCvwDytga2mUPR3EEAAAAQAZ49akK/AO0z5jdDkg4oOAAAABNBmiJJqEFsmUwId//+qZYAAJWAAAAAEEGeQEUVLC//ALFktz9cRVsAAAAQAZ5/dEK/APK2BraZQ9HcQAAAABABnmFqQr8A7TPmN0OSDig5AAAAE0GaZkmoQWyZTAh3//6plgAAlYAAAAAQQZ6ERRUsL/8AsWS3P1xFWwAAABABnqN0Qr8A8rYGtplD0dxBAAAAEAGepWpCvwDtM+Y3Q5IOKDkAAAATQZqqSahBbJlMCHf//qmWAACVgQAAABBBnshFFSwv/wCxZLc/XEVbAAAAEAGe53RCvwDytga2mUPR3EAAAAAQAZ7pakK/AO0z5jdDkg4oOQAAABNBmu5JqEFsmUwId//+qZYAAJWAAAAAEEGfDEUVLC//ALFktz9cRVsAAAAQAZ8rdEK/APK2BraZQ9HcQQAAABABny1qQr8A7TPmN0OSDig5AAAAE0GbMkmoQWyZTAh3//6plgAAlYEAAAAQQZ9QRRUsL/8AsWS3P1xFWwAAABABn290Qr8A8rYGtplD0dxAAAAAEAGfcWpCvwDtM+Y3Q5IOKDkAAAATQZt2SahBbJlMCHf//qmWAACVgAAAABBBn5RFFSwv/wCxZLc/XEVbAAAAEAGfs3RCvwDytga2mUPR3EEAAAAQAZ+1akK/AO0z5jdDkg4oOAAAABNBm7pJqEFsmUwId//+qZYAAJWBAAAAEEGf2EUVLC//ALFktz9cRVsAAAAQAZ/3dEK/APK2BraZQ9HcQAAAABABn/lqQr8A7TPmN0OSDig5AAAAE0Gb/kmoQWyZTAh3//6plgAAlYAAAAAQQZ4cRRUsL/8AsWS3P1xFWwAAABABnjt0Qr8A8rYGtplD0dxBAAAAEAGePWpCvwDtM+Y3Q5IOKDgAAAATQZoiSahBbJlMCHf//qmWAACVgAAAABBBnkBFFSwv/wCxZLc/XEVbAAAAEAGef3RCvwDytga2mUPR3EAAAAAQAZ5hakK/AO0z5jdDkg4oOQAAABNBmmZJqEFsmUwId//+qZYAAJWAAAAAEEGehEUVLC//ALFktz9cRVsAAAAQAZ6jdEK/APK2BraZQ9HcQQAAABABnqVqQr8A7TPmN0OSDig5AAAAE0GaqkmoQWyZTAh3//6plgAAlYEAAAAQQZ7IRRUsL/8AsWS3P1xFWwAAABABnud0Qr8A8rYGtplD0dxAAAAAEAGe6WpCvwDtM+Y3Q5IOKDkAAAATQZruSahBbJlMCHf//qmWAACVgAAAABBBnwxFFSwv/wCxZLc/XEVbAAAAEAGfK3RCvwDytga2mUPR3EEAAAAQAZ8takK/AO0z5jdDkg4oOQAAABNBmzJJqEFsmUwId//+qZYAAJWBAAAAEEGfUEUVLC//ALFktz9cRVsAAAAQAZ9vdEK/APK2BraZQ9HcQAAAABABn3FqQr8A7TPmN0OSDig5AAAAE0GbdkmoQWyZTAh3//6plgAAlYAAAAAQQZ+URRUsL/8AsWS3P1xFWwAAABABn7N0Qr8A8rYGtplD0dxBAAAAEAGftWpCvwDtM+Y3Q5IOKDgAAAATQZu6SahBbJlMCHf//qmWAACVgQAAABBBn9hFFSwv/wCxZLc/XEVbAAAAEAGf93RCvwDytga2mUPR3EAAAAAQAZ/5akK/AO0z5jdDkg4oOQAAABNBm/5JqEFsmUwId//+qZYAAJWAAAAAEEGeHEUVLC//ALFktz9cRVsAAAAQAZ47dEK/APK2BraZQ9HcQQAAABABnj1qQr8A7TPmN0OSDig4AAAAE0GaIkmoQWyZTAh3//6plgAAlYAAAAAQQZ5ARRUsL/8AsWS3P1xFWwAAABABnn90Qr8A8rYGtplD0dxAAAAAEAGeYWpCvwDtM+Y3Q5IOKDkAAAATQZpmSahBbJlMCHf//qmWAACVgAAAABBBnoRFFSwv/wCxZLc/XEVbAAAAEAGeo3RCvwDytga2mUPR3EEAAAAQAZ6lakK/AO0z5jdDkg4oOQAAABNBmqpJqEFsmUwId//+qZYAAJWBAAAAEEGeyEUVLC//ALFktz9cRVsAAAAQAZ7ndEK/APK2BraZQ9HcQAAAABABnulqQr8A7TPmN0OSDig5AAAAE0Ga7kmoQWyZTAh3//6plgAAlYAAAAAQQZ8MRRUsL/8AsWS3P1xFWwAAABABnyt0Qr8A8rYGtplD0dxBAAAAEAGfLWpCvwDtM+Y3Q5IOKDkAAAATQZsySahBbJlMCHf//qmWAACVgQAAABBBn1BFFSwv/wCxZLc/XEVbAAAAEAGfb3RCvwDytga2mUPR3EAAAAAQAZ9xakK/AO0z5jdDkg4oOQAAABNBm3ZJqEFsmUwId//+qZYAAJWAAAAAEEGflEUVLC//ALFktz9cRVsAAAAQAZ+zdEK/APK2BraZQ9HcQQAAABABn7VqQr8A7TPmN0OSDig4AAAAE0GbukmoQWyZTAh3//6plgAAlYEAAAAQQZ/YRRUsL/8AsWS3P1xFWwAAABABn/d0Qr8A8rYGtplD0dxAAAAAEAGf+WpCvwDtM+Y3Q5IOKDkAAAATQZv+SahBbJlMCHf//qmWAACVgAAAABBBnhxFFSwv/wCxZLc/XEVbAAAAEAGeO3RCvwDytga2mUPR3EEAAAAQAZ49akK/AO0z5jdDkg4oOAAAABJBmiJJqEFsmUwIb//+p4QAAScAAAAQQZ5ARRUsL/8AsWS3P1xFWwAAABABnn90Qr8A8rYGtplD0dxAAAAAEAGeYWpCvwDtM+Y3Q5IOKDkAAAASQZpmSahBbJlMCGf//p4QAAR8AAAAEEGehEUVLC//ALFktz9cRVsAAAAQAZ6jdEK/APK2BraZQ9HcQQAAABABnqVqQr8A7TPmN0OSDig5AAAAGkGaqUuoQhBbJEYIKAfyAf2HgCFf/jhAABFxAAAAJ0Gex0UVLCv/Aq9j7UHE3arDSSblqoYOfGGx3FrWEzFMAiH4SN6ZgAAAACQBnuhqQr8Cr2PtQcTdqsNJJuWqhg6FNKYK0RW5fBZVVgADBz8AAAx4bW9vdgAAAGxtdmhkAAAAAAAAAAAAAAAAAAAD6AAAH5AAAQAAAQAAAAAAAAAAAAAAAAEAAAAAAAAAAAAAAAAAAAABAAAAAAAAAAAAAAAAAABAAAAAAAAAAAAAAAAAAAAAAAAAAAAAAAAAAAAAAAAAAgAAC6J0cmFrAAAAXHRraGQAAAADAAAAAAAAAAAAAAABAAAAAAAAH5AAAAAAAAAAAAAAAAAAAAAAAAEAAAAAAAAAAAAAAAAAAAABAAAAAAAAAAAAAAAAAABAAAAAARAAAAEQAAAAAAAkZWR0cwAAABxlbHN0AAAAAAAAAAEAAB+QAAAEAAABAAAAAAsabWRpYQAAACBtZGhkAAAAAAAAAAAAAAAAAAAyAAABlABVxAAAAAAALWhkbHIAAAAAAAAAAHZpZGUAAAAAAAAAAAAAAABWaWRlb0hhbmRsZXIAAAAKxW1pbmYAAAAUdm1oZAAAAAEAAAAAAAAAAAAAACRkaW5mAAAAHGRyZWYAAAAAAAAAAQAAAAx1cmwgAAAAAQAACoVzdGJsAAAAlXN0c2QAAAAAAAAAAQAAAIVhdmMxAAAAAAAAAAEAAAAAAAAAAAAAAAAAAAAAARABEABIAAAASAAAAAAAAAABAAAAAAAAAAAAAAAAAAAAAAAAAAAAAAAAAAAAAAAAAAAAGP//AAAAL2F2Y0MB9AAN/+EAF2f0AA2RmygiEdCAAAADAIAAABkHihTLAQAFaOvjxEgAAAAYc3R0cwAAAAAAAAABAAAAygAAAgAAAAAUc3RzcwAAAAAAAAABAAAAAQAABlBjdHRzAAAAAAAAAMgAAAABAAAEAAAAAAEAAAYAAAAAAQAAAgAAAAABAAAIAAAAAAIAAAIAAAAAAQAABAAAAAABAAAKAAAAAAEAAAQAAAAAAQAAAAAAAAABAAACAAAAAAEAAAoAAAAAAQAABAAAAAABAAAAAAAAAAEAAAIAAAAAAQAACgAAAAABAAAEAAAAAAEAAAAAAAAAAQAAAgAAAAABAAAKAAAAAAEAAAQAAAAAAQAAAAAAAAABAAACAAAAAAEAAAoAAAAAAQAABAAAAAABAAAAAAAAAAEAAAIAAAAAAQAACgAAAAABAAAEAAAAAAEAAAAAAAAAAQAAAgAAAAABAAAKAAAAAAEAAAQAAAAAAQAAAAAAAAABAAACAAAAAAEAAAoAAAAAAQAABAAAAAABAAAAAAAAAAEAAAIAAAAAAQAACgAAAAABAAAEAAAAAAEAAAAAAAAAAQAAAgAAAAABAAAKAAAAAAEAAAQAAAAAAQAAAAAAAAABAAACAAAAAAEAAAoAAAAAAQAABAAAAAABAAAAAAAAAAEAAAIAAAAAAQAACgAAAAABAAAEAAAAAAEAAAAAAAAAAQAAAgAAAAABAAAKAAAAAAEAAAQAAAAAAQAAAAAAAAABAAACAAAAAAEAAAoAAAAAAQAABAAAAAABAAAAAAAAAAEAAAIAAAAAAQAACgAAAAABAAAEAAAAAAEAAAAAAAAAAQAAAgAAAAABAAAKAAAAAAEAAAQAAAAAAQAAAAAAAAABAAACAAAAAAEAAAoAAAAAAQAABAAAAAABAAAAAAAAAAEAAAIAAAAAAQAACgAAAAABAAAEAAAAAAEAAAAAAAAAAQAAAgAAAAABAAAKAAAAAAEAAAQAAAAAAQAAAAAAAAABAAACAAAAAAEAAAoAAAAAAQAABAAAAAABAAAAAAAAAAEAAAIAAAAAAQAACgAAAAABAAAEAAAAAAEAAAAAAAAAAQAAAgAAAAABAAAKAAAAAAEAAAQAAAAAAQAAAAAAAAABAAACAAAAAAEAAAoAAAAAAQAABAAAAAABAAAAAAAAAAEAAAIAAAAAAQAACgAAAAABAAAEAAAAAAEAAAAAAAAAAQAAAgAAAAABAAAKAAAAAAEAAAQAAAAAAQAAAAAAAAABAAACAAAAAAEAAAoAAAAAAQAABAAAAAABAAAAAAAAAAEAAAIAAAAAAQAACgAAAAABAAAEAAAAAAEAAAAAAAAAAQAAAgAAAAABAAAKAAAAAAEAAAQAAAAAAQAAAAAAAAABAAACAAAAAAEAAAoAAAAAAQAABAAAAAABAAAAAAAAAAEAAAIAAAAAAQAACgAAAAABAAAEAAAAAAEAAAAAAAAAAQAAAgAAAAABAAAKAAAAAAEAAAQAAAAAAQAAAAAAAAABAAACAAAAAAEAAAoAAAAAAQAABAAAAAABAAAAAAAAAAEAAAIAAAAAAQAACgAAAAABAAAEAAAAAAEAAAAAAAAAAQAAAgAAAAABAAAKAAAAAAEAAAQAAAAAAQAAAAAAAAABAAACAAAAAAEAAAoAAAAAAQAABAAAAAABAAAAAAAAAAEAAAIAAAAAAQAACgAAAAABAAAEAAAAAAEAAAAAAAAAAQAAAgAAAAABAAAKAAAAAAEAAAQAAAAAAQAAAAAAAAABAAACAAAAAAEAAAoAAAAAAQAABAAAAAABAAAAAAAAAAEAAAIAAAAAAQAACgAAAAABAAAEAAAAAAEAAAAAAAAAAQAAAgAAAAABAAAKAAAAAAEAAAQAAAAAAQAAAAAAAAABAAACAAAAAAEAAAoAAAAAAQAABAAAAAABAAAAAAAAAAEAAAIAAAAAAQAACgAAAAABAAAEAAAAAAEAAAAAAAAAAQAAAgAAAAABAAAKAAAAAAEAAAQAAAAAAQAAAAAAAAABAAACAAAAAAEAAAoAAAAAAQAABAAAAAABAAAAAAAAAAEAAAIAAAAAAQAACgAAAAABAAAEAAAAAAEAAAAAAAAAAQAAAgAAAAABAAAKAAAAAAEAAAQAAAAAAQAAAAAAAAABAAACAAAAAAEAAAoAAAAAAQAABAAAAAABAAAAAAAAAAEAAAIAAAAAAQAACgAAAAABAAAEAAAAAAEAAAAAAAAAAQAAAgAAAAABAAAIAAAAAAIAAAIAAAAAHHN0c2MAAAAAAAAAAQAAAAEAAADKAAAAAQAAAzxzdHN6AAAAAAAAAAAAAADKAAAFowAAABwAAAAUAAAAHgAAABUAAAASAAAAHgAAABYAAAAXAAAAFAAAABQAAAAXAAAAFAAAABQAAAAUAAAAFwAAABQAAAAUAAAAFAAAABcAAAAUAAAAFAAAABQAAAAXAAAAFAAAABQAAAAUAAAAFwAAABQAAAAUAAAAFAAAABcAAAAUAAAAFAAAABQAAAAXAAAAFAAAABQAAAAUAAAAFwAAABQAAAAUAAAAFAAAABcAAAAUAAAAFAAAABQAAAAXAAAAFAAAABQAAAAUAAAAFwAAABQAAAAUAAAAFAAAABcAAAAUAAAAFAAAABQAAAAXAAAAFAAAABQAAAAUAAAAFwAAABQAAAAUAAAAFAAAABcAAAAUAAAAFAAAABQAAAAXAAAAFAAAABQAAAAUAAAAFwAAABQAAAAUAAAAFAAAABcAAAAUAAAAFAAAABQAAAAXAAAAFAAAABQAAAAUAAAAFwAAABQAAAAUAAAAFAAAABcAAAAUAAAAFAAAABQAAAAXAAAAFAAAABQAAAAUAAAAFwAAABQAAAAUAAAAFAAAABcAAAAUAAAAFAAAABQAAAAXAAAAFAAAABQAAAAUAAAAFwAAABQAAAAUAAAAFAAAABcAAAAUAAAAFAAAABQAAAAXAAAAFAAAABQAAAAUAAAAFwAAABQAAAAUAAAAFAAAABcAAAAUAAAAFAAAABQAAAAXAAAAFAAAABQAAAAUAAAAFwAAABQAAAAUAAAAFAAAABcAAAAUAAAAFAAAABQAAAAXAAAAFAAAABQAAAAUAAAAFwAAABQAAAAUAAAAFAAAABcAAAAUAAAAFAAAABQAAAAXAAAAFAAAABQAAAAUAAAAFwAAABQAAAAUAAAAFAAAABcAAAAUAAAAFAAAABQAAAAXAAAAFAAAABQAAAAUAAAAFwAAABQAAAAUAAAAFAAAABcAAAAUAAAAFAAAABQAAAAXAAAAFAAAABQAAAAUAAAAFwAAABQAAAAUAAAAFAAAABcAAAAUAAAAFAAAABQAAAAWAAAAFAAAABQAAAAUAAAAFgAAABQAAAAUAAAAFAAAAB4AAAArAAAAKAAAABRzdGNvAAAAAAAAAAEAAAAwAAAAYnVkdGEAAABabWV0YQAAAAAAAAAhaGRscgAAAAAAAAAAbWRpcmFwcGwAAAAAAAAAAAAAAAAtaWxzdAAAACWpdG9vAAAAHWRhdGEAAAABAAAAAExhdmY1Ny44My4xMDA=\" type=\"video/mp4\" />\n",
              "             </video>"
            ],
            "text/plain": [
              "<IPython.core.display.HTML object>"
            ]
          },
          "metadata": {
            "tags": []
          },
          "execution_count": 25
        }
      ]
    },
    {
      "metadata": {
        "id": "9tfFarX3G3jp",
        "colab_type": "code",
        "colab": {
          "base_uri": "https://localhost:8080/",
          "height": 293
        },
        "outputId": "b9511694-b710-47dd-b76c-f00546fd67bf"
      },
      "cell_type": "code",
      "source": [
        "HTML(display_videos('fc_test9.mp4'))"
      ],
      "execution_count": 27,
      "outputs": [
        {
          "output_type": "execute_result",
          "data": {
            "text/html": [
              "<video alt=\"test\" controls>\n",
              "                <source src=\"data:video/mp4;base64,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\" type=\"video/mp4\" />\n",
              "             </video>"
            ],
            "text/plain": [
              "<IPython.core.display.HTML object>"
            ]
          },
          "metadata": {
            "tags": []
          },
          "execution_count": 27
        }
      ]
    },
    {
      "metadata": {
        "id": "ahBvFz26G3ju",
        "colab_type": "text"
      },
      "cell_type": "markdown",
      "source": [
        "**Comments**\n",
        "- performance using the architecture based on CNN is widely better than the one obtained using some fully connected networks. This gap is increasing with the temperature.\n",
        "- The main issue is that the algorithms tends to not explore the map. This can be especially observed when from the position of the rat it can't observe any positive reward (hence it appears especially when the temperature is low)."
      ]
    },
    {
      "metadata": {
        "id": "riHnLj9CG3jv",
        "colab_type": "text"
      },
      "cell_type": "markdown",
      "source": [
        "***\n",
        "\n",
        "The algorithm tends to not explore the map which can be an issue. We propose two ideas in order to encourage exploration:\n",
        "1. Incorporating a decreasing $\\epsilon$-greedy exploration. You can use the method ```set_epsilon```\n",
        "2. Append via the environment a new state that describes if a cell has been visited or not\n",
        "\n",
        "***\n",
        "__Question 10__ Design a new ```train_explore``` function and environment class ```EnvironmentExploring``` to tackle the issue of exploration.\n",
        "\n"
      ]
    },
    {
      "metadata": {
        "id": "Y0WNcCKXG3jx",
        "colab_type": "code",
        "colab": {}
      },
      "cell_type": "code",
      "source": [
        "def train_explore(agent,env,epoch,decay_parameter_epsilon=0.3,prefix=''):\n",
        "    #New training procedure that tries to improve the exploration of the algorithm\n",
        "    #decay_parameter_epsilon in order to use the decreasing $\\epsilon$-greedy exploration\n",
        "    \n",
        "    \n",
        "    # Number of won games\n",
        "    score = 0\n",
        "    loss = 0\n",
        "\n",
        "    for e in range(epoch):\n",
        "        # At each epoch, we restart to a fresh game and get the initial state\n",
        "        state = env.reset()\n",
        "        # This assumes that the games will terminate\n",
        "        game_over = False\n",
        "\n",
        "        win = 0\n",
        "        lose = 0\n",
        "        agent.set_epsilon(agent.epsilon*(1-decay_parameter_epsilon))\n",
        "        while not game_over:\n",
        "            # The agent performs an action\n",
        "            action = agent.act(state)\n",
        "\n",
        "            # Apply an action to the environment, get the next state, the reward\n",
        "            # and if the games end\n",
        "            prev_state = state\n",
        "            state, reward, game_over = env.act(action, train=True)\n",
        "\n",
        "            # Update the counters\n",
        "            if reward > 0:\n",
        "                win = win + reward\n",
        "            if reward < 0:\n",
        "                lose = lose -reward\n",
        "\n",
        "            # Apply the reinforcement strategy\n",
        "            loss = agent.reinforce(prev_state, state,  action, reward, game_over)\n",
        "\n",
        "        # Save as a mp4\n",
        "        if e % 10 == 0:\n",
        "            env.draw(prefix+str(e))\n",
        "\n",
        "        # Update stats\n",
        "        score += win-lose\n",
        "\n",
        "        print(\"Epoch {:03d}/{:03d} | Loss {:.4f} | Win/lose count {}/{} ({})\"\n",
        "              .format(e, epoch, loss, win, lose, win-lose))\n",
        "        agent.save(name_weights=prefix+'model.h5',name_model=prefix+'model.json')\n",
        "        \n",
        "class EnvironmentExploring(object):\n",
        "    def __init__(self, grid_size=10, max_time=500, temperature=0.1):\n",
        "        grid_size = grid_size+4\n",
        "        self.grid_size = grid_size\n",
        "        self.max_time = max_time\n",
        "        self.temperature = temperature\n",
        "\n",
        "        #board on which one plays\n",
        "        self.board = np.zeros((grid_size,grid_size))\n",
        "        self.position = np.zeros((grid_size,grid_size))\n",
        "        self.malus_position = np.zeros((grid_size,grid_size)) #define maluses when going to a previously visited position\n",
        "        # coordinate of the cat\n",
        "        self.x = 0\n",
        "        self.y = 1\n",
        "\n",
        "        # self time\n",
        "        self.t = 0\n",
        "\n",
        "        self.scale=16\n",
        "\n",
        "        self.to_draw = np.zeros((max_time+2, grid_size*self.scale, grid_size*self.scale, 3))\n",
        "\n",
        "\n",
        "    def draw(self,e):\n",
        "        skvideo.io.vwrite(str(e) + '.mp4', self.to_draw)\n",
        "\n",
        "    def get_frame(self,t):\n",
        "        b = np.zeros((self.grid_size,self.grid_size,3))+128\n",
        "        b[self.board>0,0] = 256\n",
        "        b[self.board < 0, 2] = 256\n",
        "        b[self.x,self.y,:]=256\n",
        "        b[-2:,:,:]=0\n",
        "        b[:,-2:,:]=0\n",
        "        b[:2,:,:]=0\n",
        "        b[:,:2,:]=0\n",
        "        \n",
        "        b =  cv2.resize(b, None, fx=self.scale, fy=self.scale, interpolation=cv2.INTER_NEAREST)\n",
        "\n",
        "        self.to_draw[t,:,:,:]=b\n",
        "\n",
        "\n",
        "    def act(self, action,train=False):\n",
        "        \"\"\"This function returns the new state, reward and decides if the\n",
        "        game ends.\"\"\"\n",
        "        #During the training phase going back to a position where the rat have already been before tends to decrease the \n",
        "        #total reward hence there is this train parameter that we have added (it tries to enforce the exploration)\n",
        "\n",
        "        self.get_frame(int(self.t))\n",
        "\n",
        "        self.position = np.zeros((self.grid_size, self.grid_size))\n",
        "\n",
        "        self.position[0:2,:]= -1\n",
        "        self.position[:,0:2] = -1\n",
        "        self.position[-2:, :] = -1\n",
        "        self.position[:, -2:] = -1\n",
        "\n",
        "        self.position[self.x, self.y] = 1\n",
        "        if action == 0:\n",
        "            if self.x == self.grid_size-3:\n",
        "                self.x = self.x-1\n",
        "            else:\n",
        "                self.x = self.x + 1\n",
        "        elif action == 1:\n",
        "            if self.x == 2:\n",
        "                self.x = self.x+1\n",
        "            else:\n",
        "                self.x = self.x-1\n",
        "        elif action == 2:\n",
        "            if self.y == self.grid_size - 3:\n",
        "                self.y = self.y - 1\n",
        "            else:\n",
        "                self.y = self.y + 1\n",
        "        elif action == 3:\n",
        "            if self.y == 2:\n",
        "                self.y = self.y + 1\n",
        "            else:\n",
        "                self.y = self.y - 1\n",
        "        else:\n",
        "            RuntimeError('Error: action not recognized')\n",
        "\n",
        "        self.t = self.t + 1     \n",
        "        \n",
        "        ## In Environment exploring:\n",
        "        # You will have to change n_state to 3 because you will use one more layer!\n",
        "        reward = 0\n",
        "        if train:\n",
        "            reward = -self.malus_position[self.x, self.y]\n",
        "        self.malus_position[self.x, self.y] = 0.1\n",
        "\n",
        "        reward = reward + self.board[self.x, self.y]\n",
        "        self.board[self.x, self.y] = 0\n",
        "        game_over = self.t > self.max_time\n",
        "        # 3 \"feature\" states instead of 2\n",
        "        state = np.concatenate((self.malus_position.reshape(self.grid_size, self.grid_size,1),\n",
        "                                        self.board.reshape(self.grid_size, self.grid_size,1),\n",
        "                                self.position.reshape(self.grid_size, self.grid_size,1)),axis=2)\n",
        "        state = state[self.x-2:self.x+3,self.y-2:self.y+3,:]\n",
        "\n",
        "        return state, reward, game_over\n",
        "\n",
        "    def reset(self):\n",
        "        \"\"\"This function resets the game and returns the initial state\"\"\"\n",
        "\n",
        "        self.x = np.random.randint(3, self.grid_size-3, size=1)[0]\n",
        "        self.y = np.random.randint(3, self.grid_size-3, size=1)[0]\n",
        "\n",
        "\n",
        "        bonus = 0.5*np.random.binomial(1,self.temperature,size=self.grid_size**2)\n",
        "        bonus = bonus.reshape(self.grid_size,self.grid_size)\n",
        "\n",
        "        malus = -1.0*np.random.binomial(1,self.temperature,size=self.grid_size**2)\n",
        "        malus = malus.reshape(self.grid_size, self.grid_size)\n",
        "\n",
        "        self.to_draw = np.zeros((self.max_time+2, self.grid_size*self.scale, self.grid_size*self.scale, 3))\n",
        "\n",
        "\n",
        "        malus[bonus>0]=0\n",
        "\n",
        "        self.board = bonus + malus\n",
        "\n",
        "        self.position = np.zeros((self.grid_size, self.grid_size))\n",
        "        self.position[0:2,:]= -1\n",
        "        self.position[:,0:2] = -1\n",
        "        self.position[-2:, :] = -1\n",
        "        self.position[:,-2:] = -1\n",
        "        self.board[self.x,self.y] = 0\n",
        "        self.t = 0\n",
        "\n",
        "        self.malus_position = np.zeros((self.grid_size, self.grid_size))\n",
        "        #At the begining the malus_position array must be setted to zero\n",
        "        state = np.concatenate((self.malus_position.reshape(self.grid_size, self.grid_size,1),\n",
        "                                        self.board.reshape(self.grid_size, self.grid_size,1),\n",
        "                                self.position.reshape(self.grid_size, self.grid_size,1)),axis=2)\n",
        "\n",
        "        state = state[self.x - 2:self.x + 3, self.y - 2:self.y + 3, :]\n",
        "        return state"
      ],
      "execution_count": 0,
      "outputs": []
    },
    {
      "metadata": {
        "id": "lpptsCcuG3j5",
        "colab_type": "code",
        "colab": {
          "base_uri": "https://localhost:8080/",
          "height": 1021
        },
        "outputId": "75e3b014-b436-4c98-aa41-7fa5936273d1"
      },
      "cell_type": "code",
      "source": [
        "# Training\n",
        "env = EnvironmentExploring(grid_size=size, max_time=T, temperature=0.3)\n",
        "# We use an epsilon quite high because it will decrease over time\n",
        "agent = DQN_CNN(size, lr=.1, epsilon = 0.6, memory_size=2000, batch_size = 32,n_state=3)\n",
        "train_explore(agent, env, epochs_train, prefix='cnn_train_explore')\n",
        "HTML(display_videos('cnn_train_explore10.mp4'))"
      ],
      "execution_count": 32,
      "outputs": [
        {
          "output_type": "stream",
          "text": [
            "Epoch 000/050 | Loss 0.0142 | Win/lose count 9.5/32.60000000000012 (-23.100000000000122)\n",
            "Epoch 001/050 | Loss 0.0090 | Win/lose count 10.0/20.800000000000015 (-10.800000000000015)\n",
            "Epoch 002/050 | Loss 0.0080 | Win/lose count 21.0/17.399999999999977 (3.6000000000000227)\n",
            "Epoch 003/050 | Loss 0.0110 | Win/lose count 12.5/15.899999999999963 (-3.399999999999963)\n",
            "Epoch 004/050 | Loss 0.0082 | Win/lose count 8.5/17.29999999999997 (-8.799999999999969)\n",
            "Epoch 005/050 | Loss 0.0101 | Win/lose count 9.0/19.20000000000001 (-10.20000000000001)\n",
            "Epoch 006/050 | Loss 0.0037 | Win/lose count 10.0/16.59999999999997 (-6.5999999999999694)\n",
            "Epoch 007/050 | Loss 0.0109 | Win/lose count 10.0/17.699999999999974 (-7.699999999999974)\n",
            "Epoch 008/050 | Loss 0.0050 | Win/lose count 16.0/16.29999999999996 (-0.29999999999996163)\n",
            "Epoch 009/050 | Loss 0.0041 | Win/lose count 10.5/18.69999999999997 (-8.19999999999997)\n",
            "Epoch 010/050 | Loss 0.0105 | Win/lose count 11.0/17.099999999999977 (-6.0999999999999766)\n",
            "Epoch 011/050 | Loss 0.0021 | Win/lose count 10.5/16.99999999999997 (-6.499999999999972)\n",
            "Epoch 012/050 | Loss 0.0092 | Win/lose count 20.0/10.499999999999979 (9.500000000000021)\n",
            "Epoch 013/050 | Loss 0.0124 | Win/lose count 19.5/13.69999999999997 (5.800000000000029)\n",
            "Epoch 014/050 | Loss 0.0136 | Win/lose count 18.5/12.69999999999997 (5.800000000000029)\n",
            "Epoch 015/050 | Loss 0.0153 | Win/lose count 25.5/12.69999999999998 (12.80000000000002)\n",
            "Epoch 016/050 | Loss 0.0057 | Win/lose count 27.5/10.799999999999981 (16.700000000000017)\n",
            "Epoch 017/050 | Loss 0.0113 | Win/lose count 18.5/12.89999999999997 (5.60000000000003)\n",
            "Epoch 018/050 | Loss 0.0088 | Win/lose count 16.5/14.899999999999963 (1.600000000000037)\n",
            "Epoch 019/050 | Loss 0.0084 | Win/lose count 19.5/9.799999999999981 (9.700000000000019)\n",
            "Epoch 020/050 | Loss 0.0171 | Win/lose count 14.0/15.899999999999961 (-1.8999999999999613)\n",
            "Epoch 021/050 | Loss 0.0063 | Win/lose count 18.5/14.799999999999963 (3.7000000000000366)\n",
            "Epoch 022/050 | Loss 0.0100 | Win/lose count 24.5/8.899999999999984 (15.600000000000016)\n",
            "Epoch 023/050 | Loss 0.0063 | Win/lose count 19.5/12.299999999999976 (7.200000000000024)\n",
            "Epoch 024/050 | Loss 0.0213 | Win/lose count 23.0/10.799999999999978 (12.200000000000022)\n",
            "Epoch 025/050 | Loss 0.0117 | Win/lose count 19.0/12.399999999999974 (6.600000000000026)\n",
            "Epoch 026/050 | Loss 0.0054 | Win/lose count 19.0/17.299999999999976 (1.7000000000000242)\n",
            "Epoch 027/050 | Loss 0.0058 | Win/lose count 18.5/12.699999999999969 (5.800000000000031)\n",
            "Epoch 028/050 | Loss 0.0059 | Win/lose count 26.0/11.099999999999977 (14.900000000000023)\n",
            "Epoch 029/050 | Loss 0.0111 | Win/lose count 23.0/10.099999999999982 (12.900000000000018)\n",
            "Epoch 030/050 | Loss 0.0094 | Win/lose count 25.0/12.099999999999977 (12.900000000000023)\n",
            "Epoch 031/050 | Loss 0.0086 | Win/lose count 22.0/12.099999999999977 (9.900000000000023)\n",
            "Epoch 032/050 | Loss 0.0077 | Win/lose count 24.5/11.299999999999983 (13.200000000000017)\n",
            "Epoch 033/050 | Loss 0.0060 | Win/lose count 26.0/13.199999999999978 (12.800000000000022)\n",
            "Epoch 034/050 | Loss 0.0134 | Win/lose count 25.0/9.099999999999984 (15.900000000000016)\n",
            "Epoch 035/050 | Loss 0.0198 | Win/lose count 29.0/9.499999999999988 (19.500000000000014)\n",
            "Epoch 036/050 | Loss 0.0066 | Win/lose count 20.0/11.399999999999975 (8.600000000000025)\n",
            "Epoch 037/050 | Loss 0.0174 | Win/lose count 17.5/15.09999999999997 (2.4000000000000306)\n",
            "Epoch 038/050 | Loss 0.0136 | Win/lose count 28.0/12.699999999999973 (15.300000000000027)\n",
            "Epoch 039/050 | Loss 0.0131 | Win/lose count 21.5/15.999999999999972 (5.500000000000028)\n",
            "Epoch 040/050 | Loss 0.0250 | Win/lose count 26.5/12.399999999999983 (14.100000000000017)\n",
            "Epoch 041/050 | Loss 0.0239 | Win/lose count 22.5/14.699999999999969 (7.800000000000031)\n",
            "Epoch 042/050 | Loss 0.0197 | Win/lose count 29.5/11.099999999999987 (18.400000000000013)\n",
            "Epoch 043/050 | Loss 0.0193 | Win/lose count 16.5/12.199999999999978 (4.300000000000022)\n",
            "Epoch 044/050 | Loss 0.0194 | Win/lose count 29.0/12.399999999999979 (16.600000000000023)\n",
            "Epoch 045/050 | Loss 0.0213 | Win/lose count 15.5/13.299999999999969 (2.2000000000000313)\n",
            "Epoch 046/050 | Loss 0.0101 | Win/lose count 23.0/11.399999999999975 (11.600000000000025)\n",
            "Epoch 047/050 | Loss 0.0136 | Win/lose count 22.5/13.199999999999973 (9.300000000000027)\n",
            "Epoch 048/050 | Loss 0.0163 | Win/lose count 9.0/16.89999999999997 (-7.89999999999997)\n",
            "Epoch 049/050 | Loss 0.0164 | Win/lose count 21.0/9.699999999999982 (11.300000000000018)\n"
          ],
          "name": "stdout"
        },
        {
          "output_type": "execute_result",
          "data": {
            "text/html": [
              "<video alt=\"test\" controls>\n",
              "                <source src=\"data:video/mp4;base64,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\" type=\"video/mp4\" />\n",
              "             </video>"
            ],
            "text/plain": [
              "<IPython.core.display.HTML object>"
            ]
          },
          "metadata": {
            "tags": []
          },
          "execution_count": 32
        }
      ]
    },
    {
      "metadata": {
        "id": "dGyxU1MVG3j_",
        "colab_type": "code",
        "colab": {
          "base_uri": "https://localhost:8080/",
          "height": 480
        },
        "outputId": "2c2d2f77-251b-4f08-95f0-fed7a6a4d8e5"
      },
      "cell_type": "code",
      "source": [
        "# Evaluation\n",
        "test(agent,env,epochs_test,prefix='cnn_test_explore')\n",
        "HTML(display_videos('cnn_test_explore9.mp4'))"
      ],
      "execution_count": 33,
      "outputs": [
        {
          "output_type": "stream",
          "text": [
            "Win/lose count 17.5/2.0. Average score (15.5)\n",
            "Win/lose count 14.5/3.0. Average score (13.5)\n",
            "Win/lose count 29.0/2.0. Average score (18.0)\n",
            "Win/lose count 26.5/2.0. Average score (19.625)\n",
            "Win/lose count 25.0/1.0. Average score (20.5)\n",
            "Win/lose count 19.0/0. Average score (20.25)\n",
            "Win/lose count 21.5/1.0. Average score (20.285714285714285)\n",
            "Win/lose count 16.5/2.0. Average score (19.5625)\n",
            "Win/lose count 19.0/3.0. Average score (19.166666666666668)\n",
            "Win/lose count 18.0/1.0. Average score (18.95)\n",
            "Final score: 18.95\n"
          ],
          "name": "stdout"
        },
        {
          "output_type": "execute_result",
          "data": {
            "text/html": [
              "<video alt=\"test\" controls>\n",
              "                <source src=\"data:video/mp4;base64,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\" type=\"video/mp4\" />\n",
              "             </video>"
            ],
            "text/plain": [
              "<IPython.core.display.HTML object>"
            ]
          },
          "metadata": {
            "tags": []
          },
          "execution_count": 33
        }
      ]
    },
    {
      "metadata": {
        "id": "eR2LrI7yYWCc",
        "colab_type": "text"
      },
      "cell_type": "markdown",
      "source": [
        "**Comments**\n",
        "- the outcome has been widely improved using the approach with exploration.\n",
        "- we have a huge improvement : now a score that can reach an average score of 19 (over 10 epochs) with a temperature of 0.3 while without exploration the DQN_CNN trained during 50 epochs was reaching score that rarely exceed 9 (over 10 epochs during the test phase). \n"
      ]
    },
    {
      "metadata": {
        "id": "19l1R0S6G3kB",
        "colab_type": "text"
      },
      "cell_type": "markdown",
      "source": [
        "***\n",
        "***\n",
        "__BONUS question__ Use the expert DQN from the previous question to generate some winning games. Train a model that mimicks its behavior. Compare the performances."
      ]
    },
    {
      "metadata": {
        "id": "xVb3VsJkG3kD",
        "colab_type": "text"
      },
      "cell_type": "markdown",
      "source": [
        ""
      ]
    },
    {
      "metadata": {
        "id": "tEFI9Q07YcvG",
        "colab_type": "code",
        "colab": {}
      },
      "cell_type": "code",
      "source": [
        "class DQN_Mim(Agent):\n",
        "    def __init__(self, grid_size,  epsilon = 0.1, memory_size=100, batch_size = 16,n_state=2):\n",
        "        super(DQN_Mim, self).__init__(epsilon = epsilon)\n",
        "\n",
        "        # Discount for Q learning\n",
        "        self.discount = 0.99\n",
        "        \n",
        "        self.grid_size = grid_size\n",
        "        \n",
        "        # number of state\n",
        "        self.n_state = n_state\n",
        "\n",
        "        # Memory\n",
        "        self.memory = Memory(memory_size)\n",
        "        \n",
        "        # Batch size when learning\n",
        "        self.batch_size = batch_size\n",
        "\n",
        "    def learned_act(self, s):\n",
        "        return np.argmax(self.model.predict(s.reshape([1,s.shape[0],s.shape[1],s.shape[2]]))[0,:])\n",
        "\n",
        "    def reinforce(self, s_, a_):\n",
        "        # Two steps: first memorize the states, second learn from the pool\n",
        "        self.memory.remember([s_[:,:,1:], a_]) #now we will not use the fact that our model need to verify the bellman equation but directly copy what the expert has done\n",
        "        #hence we juste need the current state and the action that has been applied\n",
        "        input_states = np.zeros((self.batch_size, 5,5,self.n_state))\n",
        "        target_q = np.zeros((self.batch_size, 4))\n",
        "        \n",
        "        for i in range(self.batch_size):\n",
        "            s_, a_ = self.memory.random_access()\n",
        "            input_states[i] = s_\n",
        "            target_q[i,a_] = 10  #Now we want to mimick the expert hence we want our target function to be maximized \n",
        "            #in the action applied by the expert\n",
        "            \n",
        "        l = self.model.train_on_batch(input_states, target_q)\n",
        "\n",
        "\n",
        "        return l\n",
        "\n",
        "    def save(self,name_weights='model.h5',name_model='model.json'):\n",
        "        self.model.save_weights(name_weights, overwrite=True)\n",
        "        with open(name_model, \"w\") as outfile:\n",
        "            json.dump(self.model.to_json(), outfile)\n",
        "            \n",
        "    def load(self,name_weights='model.h5',name_model='model.json'):\n",
        "        with open(name_model, \"r\") as jfile:\n",
        "            model = model_from_json(json.load(jfile))\n",
        "        model.load_weights(name_weights)\n",
        "        model.compile(\"sgd\", \"mse\")\n",
        "        self.model = model\n",
        "            \n",
        "class DQN_CNN_Mim(DQN_Mim):\n",
        "    def __init__(self, *args,lr=0.1,**kwargs):\n",
        "        super(DQN_CNN_Mim, self).__init__(*args,**kwargs)\n",
        "        \n",
        "        model = Sequential()\n",
        "        model.add(Conv2D(50,(2,2),input_shape=(5,5,self.n_state,),activation='relu')) \n",
        "        model.add(Flatten())\n",
        "        model.add(Dense(4))\n",
        "        model.compile(sgd(lr=lr, decay=1e-4, momentum=0.0), \"mse\")\n",
        "        self.model = model"
      ],
      "execution_count": 0,
      "outputs": []
    },
    {
      "metadata": {
        "id": "tLVfHFAqYkAX",
        "colab_type": "code",
        "colab": {}
      },
      "cell_type": "code",
      "source": [
        "def train_mimick(expert,agent,env,epoch,prefix=''):\n",
        "    # Number of won games\n",
        "    score = 0\n",
        "    loss = 0    \n",
        "    \n",
        "    for e in range(epoch):\n",
        "        # At each epoch, we restart to a fresh game and get the initial state\n",
        "        state = env.reset()\n",
        "        # This assumes that the games will terminate\n",
        "        game_over = False\n",
        "\n",
        "        win = 0\n",
        "        lose = 0\n",
        "        while not game_over:\n",
        "            # The agent performs an action\n",
        "            action = expert.act(state,train=False)\n",
        "\n",
        "            # Apply an action to the environment, get the next state, the reward\n",
        "            # and if the games end\n",
        "            prev_state = state\n",
        "            state, reward, game_over = env.act(action)\n",
        "\n",
        "            # Update the counters\n",
        "            if reward > 0:\n",
        "                win = win + reward\n",
        "            if reward < 0:\n",
        "                lose = lose -reward\n",
        "\n",
        "            # Apply the reinforcement strategy\n",
        "            loss = agent.reinforce(prev_state,  action)\n",
        "\n",
        "        # Save as a mp4\n",
        "        if e % 10 == 0:\n",
        "            env.draw(prefix+str(e))\n",
        "\n",
        "        # Update stats\n",
        "        score += win-lose\n",
        "\n",
        "        print(\"Epoch {:03d}/{:03d} | Loss {:.4f} | Win/lose count {}/{} ({})\"\n",
        "              .format(e, epoch, loss, win, lose, win-lose))\n",
        "        agent.save(name_weights=prefix+'model.h5',name_model=prefix+'model.json')"
      ],
      "execution_count": 0,
      "outputs": []
    },
    {
      "metadata": {
        "id": "f5GW7WbhYnF2",
        "colab_type": "code",
        "colab": {
          "base_uri": "https://localhost:8080/",
          "height": 867
        },
        "outputId": "f0097796-dabe-48c3-8bb6-05fb4070c499"
      },
      "cell_type": "code",
      "source": [
        "epochs_train = 50\n",
        "expert = agent\n",
        "agent_n = DQN_CNN_Mim(size, lr=.1, epsilon = 0.1, memory_size=2000, batch_size = 32,n_state=2)\n",
        "env = EnvironmentExploring(grid_size=size, max_time=T, temperature=0.3)\n",
        "train_mimick(expert,agent_n, env, epochs_train, prefix='cnn_train_mimick')"
      ],
      "execution_count": 36,
      "outputs": [
        {
          "output_type": "stream",
          "text": [
            "Epoch 000/050 | Loss 9.4411 | Win/lose count 24.0/2.0 (22.0)\n",
            "Epoch 001/050 | Loss 6.2014 | Win/lose count 26.5/4.0 (22.5)\n",
            "Epoch 002/050 | Loss 6.7898 | Win/lose count 21.0/1.0 (20.0)\n",
            "Epoch 003/050 | Loss 5.4905 | Win/lose count 18.5/4.0 (14.5)\n",
            "Epoch 004/050 | Loss 7.9663 | Win/lose count 23.0/5.0 (18.0)\n",
            "Epoch 005/050 | Loss 5.8449 | Win/lose count 22.5/2.0 (20.5)\n",
            "Epoch 006/050 | Loss 8.7371 | Win/lose count 26.0/1.0 (25.0)\n",
            "Epoch 007/050 | Loss 7.8850 | Win/lose count 13.0/1.0 (12.0)\n",
            "Epoch 008/050 | Loss 5.8728 | Win/lose count 18.5/5.0 (13.5)\n",
            "Epoch 009/050 | Loss 6.8821 | Win/lose count 19.0/4.0 (15.0)\n",
            "Epoch 010/050 | Loss 10.1137 | Win/lose count 20.5/5.0 (15.5)\n",
            "Epoch 011/050 | Loss 8.5420 | Win/lose count 18.5/2.0 (16.5)\n",
            "Epoch 012/050 | Loss 8.8289 | Win/lose count 19.0/4.0 (15.0)\n",
            "Epoch 013/050 | Loss 7.6265 | Win/lose count 23.0/2.0 (21.0)\n",
            "Epoch 014/050 | Loss 5.5251 | Win/lose count 13.5/0 (13.5)\n",
            "Epoch 015/050 | Loss 7.1426 | Win/lose count 17.5/5.0 (12.5)\n",
            "Epoch 016/050 | Loss 9.3544 | Win/lose count 23.5/4.0 (19.5)\n",
            "Epoch 017/050 | Loss 6.0073 | Win/lose count 24.0/3.0 (21.0)\n",
            "Epoch 018/050 | Loss 9.7631 | Win/lose count 24.0/2.0 (22.0)\n",
            "Epoch 019/050 | Loss 7.2220 | Win/lose count 23.5/3.0 (20.5)\n",
            "Epoch 020/050 | Loss 7.2808 | Win/lose count 18.0/4.0 (14.0)\n",
            "Epoch 021/050 | Loss 8.3499 | Win/lose count 13.5/2.0 (11.5)\n",
            "Epoch 022/050 | Loss 5.3012 | Win/lose count 17.0/3.0 (14.0)\n",
            "Epoch 023/050 | Loss 7.5686 | Win/lose count 24.0/5.0 (19.0)\n",
            "Epoch 024/050 | Loss 6.0134 | Win/lose count 21.5/1.0 (20.5)\n",
            "Epoch 025/050 | Loss 4.0844 | Win/lose count 26.0/3.0 (23.0)\n",
            "Epoch 026/050 | Loss 7.1527 | Win/lose count 27.5/3.0 (24.5)\n",
            "Epoch 027/050 | Loss 6.4503 | Win/lose count 21.5/3.0 (18.5)\n",
            "Epoch 028/050 | Loss 6.9141 | Win/lose count 28.0/4.0 (24.0)\n",
            "Epoch 029/050 | Loss 6.0483 | Win/lose count 20.5/1.0 (19.5)\n",
            "Epoch 030/050 | Loss 5.5911 | Win/lose count 16.0/0 (16.0)\n",
            "Epoch 031/050 | Loss 7.4920 | Win/lose count 21.5/0 (21.5)\n",
            "Epoch 032/050 | Loss 6.8857 | Win/lose count 26.0/3.0 (23.0)\n",
            "Epoch 033/050 | Loss 5.9995 | Win/lose count 23.5/0 (23.5)\n",
            "Epoch 034/050 | Loss 7.3481 | Win/lose count 9.5/2.0 (7.5)\n",
            "Epoch 035/050 | Loss 5.4317 | Win/lose count 12.0/0 (12.0)\n",
            "Epoch 036/050 | Loss 5.9091 | Win/lose count 23.5/0 (23.5)\n",
            "Epoch 037/050 | Loss 5.6286 | Win/lose count 9.5/2.0 (7.5)\n",
            "Epoch 038/050 | Loss 6.1218 | Win/lose count 21.0/1.0 (20.0)\n",
            "Epoch 039/050 | Loss 4.0580 | Win/lose count 22.5/2.0 (20.5)\n",
            "Epoch 040/050 | Loss 5.9374 | Win/lose count 22.0/2.0 (20.0)\n",
            "Epoch 041/050 | Loss 6.0568 | Win/lose count 24.0/2.0 (22.0)\n",
            "Epoch 042/050 | Loss 5.8725 | Win/lose count 24.5/5.0 (19.5)\n",
            "Epoch 043/050 | Loss 4.2756 | Win/lose count 13.0/0 (13.0)\n",
            "Epoch 044/050 | Loss 7.0558 | Win/lose count 22.5/3.0 (19.5)\n",
            "Epoch 045/050 | Loss 4.7620 | Win/lose count 25.0/5.0 (20.0)\n",
            "Epoch 046/050 | Loss 7.4181 | Win/lose count 16.0/0 (16.0)\n",
            "Epoch 047/050 | Loss 6.7977 | Win/lose count 26.0/2.0 (24.0)\n",
            "Epoch 048/050 | Loss 8.1594 | Win/lose count 18.0/6.0 (12.0)\n",
            "Epoch 049/050 | Loss 8.6984 | Win/lose count 24.0/2.0 (22.0)\n"
          ],
          "name": "stdout"
        }
      ]
    },
    {
      "metadata": {
        "id": "K0cNIBAEYnO1",
        "colab_type": "code",
        "colab": {
          "base_uri": "https://localhost:8080/",
          "height": 204
        },
        "outputId": "4577e6ec-b42e-4078-e0dc-0f25265a08c4"
      },
      "cell_type": "code",
      "source": [
        "env_test = Environment(grid_size=size, max_time=T,temperature=0.3)\n",
        "test(agent_n,env_test,epochs_test,prefix='cnn_test_mimick')"
      ],
      "execution_count": 37,
      "outputs": [
        {
          "output_type": "stream",
          "text": [
            "Win/lose count 21.0/2.0. Average score (19.0)\n",
            "Win/lose count 24.5/2.0. Average score (20.75)\n",
            "Win/lose count 28.0/4.0. Average score (21.833333333333332)\n",
            "Win/lose count 18.0/3.0. Average score (20.125)\n",
            "Win/lose count 19.5/4.0. Average score (19.2)\n",
            "Win/lose count 6.5/0. Average score (17.083333333333332)\n",
            "Win/lose count 11.5/1.0. Average score (16.142857142857142)\n",
            "Win/lose count 5.0/0. Average score (14.75)\n",
            "Win/lose count 26.5/4.0. Average score (15.61111111111111)\n",
            "Win/lose count 25.5/0. Average score (16.6)\n",
            "Final score: 16.6\n"
          ],
          "name": "stdout"
        }
      ]
    },
    {
      "metadata": {
        "id": "kUPl5LpsYrad",
        "colab_type": "code",
        "colab": {
          "base_uri": "https://localhost:8080/",
          "height": 293
        },
        "outputId": "5dd1f0c1-d807-4cde-af8c-dbceb9b8d7a6"
      },
      "cell_type": "code",
      "source": [
        "HTML(display_videos('cnn_test_mimick9.mp4'))"
      ],
      "execution_count": 38,
      "outputs": [
        {
          "output_type": "execute_result",
          "data": {
            "text/html": [
              "<video alt=\"test\" controls>\n",
              "                <source src=\"data:video/mp4;base64,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\" type=\"video/mp4\" />\n",
              "             </video>"
            ],
            "text/plain": [
              "<IPython.core.display.HTML object>"
            ]
          },
          "metadata": {
            "tags": []
          },
          "execution_count": 38
        }
      ]
    },
    {
      "metadata": {
        "id": "N7DQ1RIXYtSP",
        "colab_type": "text"
      },
      "cell_type": "markdown",
      "source": [
        "**Comments**\n",
        "- Our algorithm that tries to mimick the expert performs better than the algorithm without exploration\n",
        "- The final score for the copy is about 16 (average over 10 epochs for testing). It is lower than the score obtained using the approach with exploration. \n",
        "- It can be explained by the fact that it doesn't really learn to improve the score but it just tries to copy the original algorithm hence it could at best performs such as the expert algorithm but it couldn't exceed it.\n"
      ]
    },
    {
      "metadata": {
        "id": "v67ULe7hG3kE",
        "colab_type": "text"
      },
      "cell_type": "markdown",
      "source": [
        "***"
      ]
    }
  ]
}